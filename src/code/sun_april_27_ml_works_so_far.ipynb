{
  "nbformat": 4,
  "nbformat_minor": 0,
  "metadata": {
    "colab": {
      "provenance": []
    },
    "kernelspec": {
      "name": "python3",
      "display_name": "Python 3"
    },
    "language_info": {
      "name": "python"
    }
  },
  "cells": [
    {
      "cell_type": "code",
      "execution_count": 78,
      "metadata": {
        "colab": {
          "base_uri": "https://localhost:8080/"
        },
        "id": "6p9ksh2OeAVN",
        "outputId": "ef5b28f7-f2cf-4b02-8aca-35bd702bd60f"
      },
      "outputs": [
        {
          "output_type": "stream",
          "name": "stdout",
          "text": [
            "Drive already mounted at /content/drive; to attempt to forcibly remount, call drive.mount(\"/content/drive\", force_remount=True).\n"
          ]
        }
      ],
      "source": [
        "from google.colab import drive\n",
        "drive.mount('/content/drive')"
      ]
    },
    {
      "cell_type": "code",
      "source": [
        "!pip install causal-learn"
      ],
      "metadata": {
        "colab": {
          "base_uri": "https://localhost:8080/"
        },
        "id": "0wzyT067i-pP",
        "outputId": "ec65b3e8-d1e0-44f4-ff8e-2b962819e81d"
      },
      "execution_count": 79,
      "outputs": [
        {
          "output_type": "stream",
          "name": "stdout",
          "text": [
            "Requirement already satisfied: causal-learn in /usr/local/lib/python3.11/dist-packages (0.1.4.1)\n",
            "Requirement already satisfied: numpy in /usr/local/lib/python3.11/dist-packages (from causal-learn) (2.0.2)\n",
            "Requirement already satisfied: scipy in /usr/local/lib/python3.11/dist-packages (from causal-learn) (1.14.1)\n",
            "Requirement already satisfied: scikit-learn in /usr/local/lib/python3.11/dist-packages (from causal-learn) (1.6.1)\n",
            "Requirement already satisfied: graphviz in /usr/local/lib/python3.11/dist-packages (from causal-learn) (0.20.3)\n",
            "Requirement already satisfied: statsmodels in /usr/local/lib/python3.11/dist-packages (from causal-learn) (0.14.4)\n",
            "Requirement already satisfied: pandas in /usr/local/lib/python3.11/dist-packages (from causal-learn) (2.2.2)\n",
            "Requirement already satisfied: matplotlib in /usr/local/lib/python3.11/dist-packages (from causal-learn) (3.10.0)\n",
            "Requirement already satisfied: networkx in /usr/local/lib/python3.11/dist-packages (from causal-learn) (3.4.2)\n",
            "Requirement already satisfied: pydot in /usr/local/lib/python3.11/dist-packages (from causal-learn) (3.0.4)\n",
            "Requirement already satisfied: tqdm in /usr/local/lib/python3.11/dist-packages (from causal-learn) (4.67.1)\n",
            "Requirement already satisfied: momentchi2 in /usr/local/lib/python3.11/dist-packages (from causal-learn) (0.1.8)\n",
            "Requirement already satisfied: contourpy>=1.0.1 in /usr/local/lib/python3.11/dist-packages (from matplotlib->causal-learn) (1.3.2)\n",
            "Requirement already satisfied: cycler>=0.10 in /usr/local/lib/python3.11/dist-packages (from matplotlib->causal-learn) (0.12.1)\n",
            "Requirement already satisfied: fonttools>=4.22.0 in /usr/local/lib/python3.11/dist-packages (from matplotlib->causal-learn) (4.57.0)\n",
            "Requirement already satisfied: kiwisolver>=1.3.1 in /usr/local/lib/python3.11/dist-packages (from matplotlib->causal-learn) (1.4.8)\n",
            "Requirement already satisfied: packaging>=20.0 in /usr/local/lib/python3.11/dist-packages (from matplotlib->causal-learn) (24.2)\n",
            "Requirement already satisfied: pillow>=8 in /usr/local/lib/python3.11/dist-packages (from matplotlib->causal-learn) (11.1.0)\n",
            "Requirement already satisfied: pyparsing>=2.3.1 in /usr/local/lib/python3.11/dist-packages (from matplotlib->causal-learn) (3.2.3)\n",
            "Requirement already satisfied: python-dateutil>=2.7 in /usr/local/lib/python3.11/dist-packages (from matplotlib->causal-learn) (2.8.2)\n",
            "Requirement already satisfied: pytz>=2020.1 in /usr/local/lib/python3.11/dist-packages (from pandas->causal-learn) (2025.2)\n",
            "Requirement already satisfied: tzdata>=2022.7 in /usr/local/lib/python3.11/dist-packages (from pandas->causal-learn) (2025.2)\n",
            "Requirement already satisfied: joblib>=1.2.0 in /usr/local/lib/python3.11/dist-packages (from scikit-learn->causal-learn) (1.4.2)\n",
            "Requirement already satisfied: threadpoolctl>=3.1.0 in /usr/local/lib/python3.11/dist-packages (from scikit-learn->causal-learn) (3.6.0)\n",
            "Requirement already satisfied: patsy>=0.5.6 in /usr/local/lib/python3.11/dist-packages (from statsmodels->causal-learn) (1.0.1)\n",
            "Requirement already satisfied: six>=1.5 in /usr/local/lib/python3.11/dist-packages (from python-dateutil>=2.7->matplotlib->causal-learn) (1.17.0)\n"
          ]
        }
      ]
    },
    {
      "cell_type": "code",
      "source": [
        "import numpy as np\n",
        "import pandas as pd\n",
        "import os\n",
        "import seaborn as sns\n",
        "import matplotlib.pyplot as plt\n",
        "import torch\n",
        "import torch.nn as nn\n",
        "import torch.optim as optim\n",
        "import matplotlib.image as mpimg\n",
        "import io\n",
        "\n",
        "from causallearn.search.ScoreBased.GES import ges\n",
        "from causallearn.utils.GraphUtils import GraphUtils\n",
        "from sklearn.linear_model import LinearRegression\n",
        "from sklearn.ensemble import RandomForestRegressor\n",
        "from sklearn.neural_network import MLPRegressor\n",
        "from sklearn.metrics import r2_score, mean_squared_error\n",
        "from sklearn.model_selection import train_test_split"
      ],
      "metadata": {
        "id": "Al_Wihq7eLf-"
      },
      "execution_count": 80,
      "outputs": []
    },
    {
      "cell_type": "code",
      "source": [
        "#loading osprey data\n",
        "osprey_path = '/content/drive/MyDrive/ml_climate_project_data/osprey/'\n",
        "\n",
        "csv_files = [f for f in os.listdir(osprey_path) if f.endswith('.csv')]\n",
        "\n",
        "osprey_df = pd.concat(\n",
        "    [pd.read_csv(os.path.join(osprey_path, file)) for file in sorted(csv_files)],\n",
        "    ignore_index = True\n",
        ")\n",
        "\n",
        "#getting rid of missing / non-numeric values\n",
        "osprey_df['OBSERVATION COUNT'] = pd.to_numeric(osprey_df['OBSERVATION COUNT'], errors = 'coerce')\n",
        "osprey_df = osprey_df.dropna(subset = ['OBSERVATION COUNT'])\n",
        "\n",
        "osprey_df = osprey_df[['OBSERVATION DATE', 'OBSERVATION COUNT', 'COUNTY']]"
      ],
      "metadata": {
        "colab": {
          "base_uri": "https://localhost:8080/"
        },
        "id": "nfgwd55eeNBM",
        "outputId": "0635f72c-e9fc-4fdc-e1e4-9ad14b155a8a"
      },
      "execution_count": 143,
      "outputs": [
        {
          "output_type": "stream",
          "name": "stderr",
          "text": [
            "<ipython-input-143-293e71d5ad60>:7: DtypeWarning: Columns (7,8) have mixed types. Specify dtype option on import or set low_memory=False.\n",
            "  [pd.read_csv(os.path.join(osprey_path, file)) for file in sorted(csv_files)],\n",
            "<ipython-input-143-293e71d5ad60>:7: DtypeWarning: Columns (7,8) have mixed types. Specify dtype option on import or set low_memory=False.\n",
            "  [pd.read_csv(os.path.join(osprey_path, file)) for file in sorted(csv_files)],\n",
            "<ipython-input-143-293e71d5ad60>:7: DtypeWarning: Columns (7,8) have mixed types. Specify dtype option on import or set low_memory=False.\n",
            "  [pd.read_csv(os.path.join(osprey_path, file)) for file in sorted(csv_files)],\n",
            "<ipython-input-143-293e71d5ad60>:7: DtypeWarning: Columns (7,8) have mixed types. Specify dtype option on import or set low_memory=False.\n",
            "  [pd.read_csv(os.path.join(osprey_path, file)) for file in sorted(csv_files)],\n",
            "<ipython-input-143-293e71d5ad60>:7: DtypeWarning: Columns (7,8) have mixed types. Specify dtype option on import or set low_memory=False.\n",
            "  [pd.read_csv(os.path.join(osprey_path, file)) for file in sorted(csv_files)],\n",
            "<ipython-input-143-293e71d5ad60>:7: DtypeWarning: Columns (7,8) have mixed types. Specify dtype option on import or set low_memory=False.\n",
            "  [pd.read_csv(os.path.join(osprey_path, file)) for file in sorted(csv_files)],\n",
            "<ipython-input-143-293e71d5ad60>:7: DtypeWarning: Columns (7,8) have mixed types. Specify dtype option on import or set low_memory=False.\n",
            "  [pd.read_csv(os.path.join(osprey_path, file)) for file in sorted(csv_files)],\n",
            "<ipython-input-143-293e71d5ad60>:7: DtypeWarning: Columns (7,8) have mixed types. Specify dtype option on import or set low_memory=False.\n",
            "  [pd.read_csv(os.path.join(osprey_path, file)) for file in sorted(csv_files)],\n",
            "<ipython-input-143-293e71d5ad60>:7: DtypeWarning: Columns (7,8) have mixed types. Specify dtype option on import or set low_memory=False.\n",
            "  [pd.read_csv(os.path.join(osprey_path, file)) for file in sorted(csv_files)],\n",
            "<ipython-input-143-293e71d5ad60>:7: DtypeWarning: Columns (7,8) have mixed types. Specify dtype option on import or set low_memory=False.\n",
            "  [pd.read_csv(os.path.join(osprey_path, file)) for file in sorted(csv_files)],\n"
          ]
        }
      ]
    },
    {
      "cell_type": "code",
      "source": [
        "#loading bald_eagle data\n",
        "eagle_path = '/content/drive/MyDrive/ml_climate_project_data/bald_eagle/'\n",
        "\n",
        "csv_files = [f for f in os.listdir(eagle_path) if f.endswith('.csv')]\n",
        "bald_eagle_df = pd.concat(\n",
        "    [pd.read_csv(os.path.join(eagle_path, file)) for file in sorted(csv_files)],\n",
        "    ignore_index = True\n",
        ")\n",
        "\n",
        "#getting rid of missing / non-numeric values\n",
        "bald_eagle_df['OBSERVATION COUNT'] = pd.to_numeric(bald_eagle_df['OBSERVATION COUNT'], errors = 'coerce')\n",
        "bald_eagle_df = bald_eagle_df.dropna(subset = ['OBSERVATION COUNT'])\n",
        "\n",
        "bald_eagle_df = bald_eagle_df[['OBSERVATION DATE', 'OBSERVATION COUNT', 'COUNTY']]"
      ],
      "metadata": {
        "id": "FLJ4YUzveOTp"
      },
      "execution_count": 144,
      "outputs": []
    },
    {
      "cell_type": "code",
      "source": [
        "#fish data\n",
        "fish_df = pd.read_csv('/content/drive/MyDrive/ml_climate_project_data/fishdata.csv')\n",
        "\n",
        "#temperature data\n",
        "temp_df = pd.read_csv('/content/drive/MyDrive/ml_climate_project_data/tempdata.csv')\n",
        "\n",
        "temp_df = temp_df[temp_df['Anomaly'] != -999]\n",
        "\n",
        "temp_df['year'] = temp_df['Date'].astype(str).str[:4].astype(int)\n",
        "temp_df['month'] = temp_df['Date'].astype(str).str[4:].astype(int)"
      ],
      "metadata": {
        "id": "ok9j7b81eRf5"
      },
      "execution_count": 83,
      "outputs": []
    },
    {
      "cell_type": "code",
      "source": [
        "#combine and join data\n",
        "osprey_df[\"bird_type\"] = \"Osprey\"\n",
        "bald_eagle_df[\"bird_type\"] = \"Bald Eagle\"\n",
        "bird_df = pd.concat([osprey_df, bald_eagle_df], ignore_index = True)\n",
        "\n",
        "bird_df['OBSERVATION DATE'] = pd.to_datetime(bird_df['OBSERVATION DATE'])\n",
        "bird_df['year'] = bird_df['OBSERVATION DATE'].dt.year\n",
        "bird_df['month'] = bird_df['OBSERVATION DATE'].dt.month\n",
        "\n",
        "#combine with temperature data\n",
        "bird_temp_df = bird_df.merge(temp_df[['year', 'month', 'Anomaly']], on=['year', 'month'], how='left')\n",
        "\n",
        "#combine with fish data\n",
        "combined_df = bird_temp_df.merge(fish_df, on='year', how='left')\n",
        "final_df = combined_df.dropna()\n",
        "final_df = final_df.rename(columns={\n",
        "    \"Anomaly\": \"temperature\",\n",
        "    \"OBSERVATION COUNT\": \"bird_count\",\n",
        "    \"Fish_Population\": \"fish_population\",\n",
        "})"
      ],
      "metadata": {
        "id": "SvuB9dmqeTUP"
      },
      "execution_count": 142,
      "outputs": []
    },
    {
      "cell_type": "code",
      "source": [
        "#data setup\n",
        "final_df['interaction_temp_osprey'] = final_df['temperature'] * (final_df['bird_type'] == 'Osprey').astype(int)\n",
        "final_df['interaction_temp_bald_eagle'] = final_df['temperature'] * (final_df['bird_type'] == 'Bald Eagle').astype(int)\n",
        "final_df['interaction_fish_osprey'] = final_df['runsize'] * (final_df['bird_type'] == 'Osprey').astype(int)\n",
        "final_df['interaction_fish_bald_eagle'] = final_df['runsize'] * (final_df['bird_type'] == 'Bald Eagle').astype(int)\n",
        "\n",
        "features = ['temperature', 'runsize', 'interaction_temp_osprey', 'interaction_temp_bald_eagle',\n",
        "            'interaction_fish_osprey', 'interaction_fish_bald_eagle']\n",
        "target = 'bird_count'\n",
        "X = final_df[features].values\n",
        "y = final_df[target].values\n",
        "X_tensor = torch.tensor(X, dtype=torch.float32)\n",
        "y_tensor = torch.tensor(y, dtype=torch.float32).view(-1, 1)"
      ],
      "metadata": {
        "id": "VKozf91VeXWx"
      },
      "execution_count": 145,
      "outputs": []
    },
    {
      "cell_type": "code",
      "source": [
        "#merge data\n",
        "final_df['OBSERVATION DATE'] = pd.to_datetime(final_df['OBSERVATION DATE'])\n",
        "\n",
        "monthly_summary = final_df.groupby(['year', 'month', 'bird_type']).agg({\n",
        "    'bird_count': 'sum',\n",
        "    'temperature': 'mean',\n",
        "    'runsize': 'mean',\n",
        "    'spawners': 'mean'\n",
        "}).reset_index()\n",
        "\n",
        "bird_pivot = monthly_summary.pivot_table(index = ['year', 'month'],\n",
        "                                         columns = 'bird_type',\n",
        "                                         values = 'bird_count',\n",
        "                                         fill_value = 0).reset_index()\n",
        "\n",
        "bird_pivot.columns.name = None\n",
        "bird_pivot = bird_pivot.rename(columns = {\n",
        "    'Osprey': 'osprey_count',\n",
        "    'Bald Eagle': 'bald_eagle_count'\n",
        "})\n",
        "\n",
        "temp_fish = monthly_summary.groupby(['year', 'month']).agg({\n",
        "    'temperature': 'mean',\n",
        "    'runsize': 'mean',\n",
        "    'spawners': 'mean'\n",
        "}).reset_index()\n",
        "\n",
        "merged_df = pd.merge(bird_pivot, temp_fish, on = ['year', 'month'], how = 'left')\n",
        "merged_df['interaction'] = merged_df['temperature'] * merged_df['bald_eagle_count']"
      ],
      "metadata": {
        "id": "HXmMIVbdeY64"
      },
      "execution_count": 146,
      "outputs": []
    },
    {
      "cell_type": "code",
      "source": [
        "#dag\n",
        "causal_data = merged_df.drop(columns = ['year', 'month'])\n",
        "X = causal_data.values\n",
        "Record = ges(X)\n",
        "\n",
        "pyd = GraphUtils.to_pydot(Record['G'])\n",
        "tmp_png = pyd.create_png(f = \"png\")\n",
        "fp = io.BytesIO(tmp_png)\n",
        "img = mpimg.imread(fp, format = 'png')\n",
        "\n",
        "node_labels = [node.get_name() for node in Record['G'].nodes]\n",
        "\n",
        "column_names = causal_data.columns.tolist()\n",
        "node_to_column_map = dict(zip([f'X{i+1}' for i in range(len(column_names))], column_names))\n",
        "\n",
        "target_column = 'bald_eagle_count'\n",
        "\n",
        "target_node_label = next(label for label, col in node_to_column_map.items() if col == target_column)\n",
        "node_labels = [node.get_name() for node in Record['G'].nodes]\n",
        "\n",
        "target_column = 'bald_eagle_count'\n",
        "target_node = None\n",
        "for node in Record['G'].nodes:\n",
        "    if node.get_name() == target_node_label:\n",
        "        target_node = node\n",
        "        break\n",
        "\n",
        "if target_node is None:\n",
        "    print(f\"Error: Node '{target_node_label}' not found in the graph.\")\n",
        "else:\n",
        "    parents_of_target = Record['G'].get_parents(target_node)\n",
        "    parent_columns = [node_to_column_map[parent.get_name()] for parent in parents_of_target]\n",
        "\n",
        "nodes = Record['G'].get_nodes()\n",
        "name_to_node = {node.get_name(): node for node in nodes}\n",
        "\n",
        "target_node_label = 'X2'\n",
        "target_node = name_to_node[target_node_label]\n",
        "\n",
        "parents_of_X2 = Record['G'].get_parents(target_node)"
      ],
      "metadata": {
        "id": "6HqIzQKsrp87"
      },
      "execution_count": 89,
      "outputs": []
    },
    {
      "cell_type": "code",
      "source": [
        "#linear regression"
      ],
      "metadata": {
        "id": "eEFwHSsRIJdI"
      },
      "execution_count": null,
      "outputs": []
    },
    {
      "cell_type": "code",
      "source": [
        "#"
      ],
      "metadata": {
        "id": "SIqJaH4xIMtX"
      },
      "execution_count": null,
      "outputs": []
    },
    {
      "cell_type": "code",
      "source": [
        "#random forest\n",
        "#modeling fish availability based on temperature and spawners\n",
        "merged_df['fish_availability'] = merged_df['temperature'] * merged_df['spawners']\n",
        "\n",
        "X_fish = merged_df[['temperature', 'spawners']]\n",
        "y_fish = merged_df['fish_availability']\n",
        "\n",
        "#random forest for fish availability\n",
        "model_fish = RandomForestRegressor()\n",
        "model_fish.fit(X_fish, y_fish)\n",
        "\n",
        "merged_df['predicted_fish_availability'] = model_fish.predict(X_fish)\n",
        "print(\"R² for Fish Availability Model:\", r2_score(y_fish, merged_df['predicted_fish_availability']))\n",
        "\n",
        "X_bald_eagle = merged_df[['temperature', 'spawners', 'predicted_fish_availability']]\n",
        "y_bald_eagle = merged_df['bald_eagle_count']\n",
        "\n",
        "#random forest for bald eagle\n",
        "model_bald_eagle = RandomForestRegressor()\n",
        "model_bald_eagle.fit(X_bald_eagle, y_bald_eagle)\n",
        "\n",
        "merged_df['predicted_bald_eagle_count'] = model_bald_eagle.predict(X_bald_eagle)\n",
        "print(\"R² for Bald Eagle Population Model:\", r2_score(y_bald_eagle, merged_df['predicted_bald_eagle_count']))\n",
        "\n",
        "X_osprey = merged_df[['temperature', 'spawners', 'predicted_fish_availability']]\n",
        "y_osprey = merged_df['osprey_count']\n",
        "\n",
        "#random forest for osprey\n",
        "model_osprey = RandomForestRegressor()\n",
        "model_osprey.fit(X_osprey, y_osprey)\n",
        "\n",
        "merged_df['predicted_osprey_count'] = model_osprey.predict(X_osprey)\n",
        "print(\"R² for Osprey Population Model:\", r2_score(y_osprey, merged_df['predicted_osprey_count']))\n",
        "\n",
        "merged_df['predicted_interaction_term'] = merged_df['predicted_bald_eagle_count'] * merged_df['predicted_osprey_count']\n",
        "X_interaction = merged_df[['predicted_bald_eagle_count', 'predicted_osprey_count']]\n",
        "model_interaction_term = RandomForestRegressor()\n",
        "model_interaction_term.fit(X_interaction, merged_df['interaction'])\n",
        "merged_df['predicted_interaction_term'] = model_interaction_term.predict(X_interaction)"
      ],
      "metadata": {
        "colab": {
          "base_uri": "https://localhost:8080/"
        },
        "id": "NNe44OnB5RiN",
        "outputId": "bed4e401-ae00-4e36-8f05-9ac59b64106b"
      },
      "execution_count": 140,
      "outputs": [
        {
          "output_type": "stream",
          "name": "stdout",
          "text": [
            "R² for Fish Availability Model: 0.9987079508073972\n",
            "R² for Bald Eagle Population Model: 0.8942797562286711\n",
            "R² for Osprey Population Model: 0.9597344408417511\n"
          ]
        }
      ]
    },
    {
      "cell_type": "code",
      "source": [
        "#simulating ratio based on fish availability\n",
        "fish_availability_base = merged_df['fish_availability'].mean()\n",
        "\n",
        "temperature_range = np.linspace(merged_df['temperature'].min(), merged_df['temperature'].max(), 100)\n",
        "spawners_range = np.linspace(merged_df['spawners'].min(), merged_df['spawners'].max(), 100)\n",
        "fish_availability_range = fish_availability_base + 0.01 * (temperature_range - merged_df['temperature'].mean()) \\\n",
        "                          + 0.5 * (spawners_range - merged_df['spawners'].mean())\n",
        "\n",
        "fish_availability_range = np.maximum(fish_availability_range, 0)\n",
        "simulated_bald_eagle_population = model_bald_eagle.predict(np.column_stack([np.ones_like(fish_availability_range)*merged_df['temperature'].mean(),\n",
        "                                                                           np.ones_like(fish_availability_range)*merged_df['spawners'].mean(),\n",
        "                                                                           fish_availability_range]))\n",
        "\n",
        "simulated_osprey_population = model_osprey.predict(np.column_stack([np.ones_like(fish_availability_range)*merged_df['temperature'].mean(),\n",
        "                                                                   np.ones_like(fish_availability_range)*merged_df['spawners'].mean(),\n",
        "                                                                   fish_availability_range]))\n",
        "\n",
        "population_ratio = simulated_bald_eagle_population / simulated_osprey_population\n",
        "\n",
        "plt.figure(figsize = (10, 6))\n",
        "plt.plot(fish_availability_range, population_ratio, label='Bald Eagle/Osprey Ratio', color = 'g')\n",
        "plt.xlabel('Fish Availability (Simulated Climate Change)')\n",
        "plt.ylabel('Bald Eagle/Osprey Population Ratio')\n",
        "plt.title('Competitive Advantage: Bald Eagle vs Osprey Population Ratio')\n",
        "plt.legend()\n",
        "plt.show()"
      ],
      "metadata": {
        "colab": {
          "base_uri": "https://localhost:8080/",
          "height": 635
        },
        "id": "rAYBrYG_EKtB",
        "outputId": "7f6334dd-1cf8-4acb-8137-a2fac5fa4c76"
      },
      "execution_count": 141,
      "outputs": [
        {
          "output_type": "stream",
          "name": "stderr",
          "text": [
            "/usr/local/lib/python3.11/dist-packages/sklearn/utils/validation.py:2739: UserWarning: X does not have valid feature names, but RandomForestRegressor was fitted with feature names\n",
            "  warnings.warn(\n",
            "/usr/local/lib/python3.11/dist-packages/sklearn/utils/validation.py:2739: UserWarning: X does not have valid feature names, but RandomForestRegressor was fitted with feature names\n",
            "  warnings.warn(\n"
          ]
        },
        {
          "output_type": "display_data",
          "data": {
            "text/plain": [
              "<Figure size 1000x600 with 1 Axes>"
            ],
            "image/png": "[encoded data removed]"
          },
          "metadata": {}
        }
      ]
    }
  ]
}