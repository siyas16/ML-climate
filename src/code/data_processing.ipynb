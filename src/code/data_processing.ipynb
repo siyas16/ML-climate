{
  "nbformat": 4,
  "nbformat_minor": 0,
  "metadata": {
    "colab": {
      "provenance": []
    },
    "kernelspec": {
      "name": "python3",
      "display_name": "Python 3"
    },
    "language_info": {
      "name": "python"
    }
  },
  "cells": [
    {
      "cell_type": "code",
      "execution_count": null,
      "metadata": {
        "id": "6p9ksh2OeAVN"
      },
      "outputs": [],
      "source": [
        "from google.colab import drive\n",
        "drive.mount('/content/drive')"
      ]
    },
    {
      "cell_type": "code",
      "source": [
        "import pandas as pd\n",
        "import os"
      ],
      "metadata": {
        "id": "Al_Wihq7eLf-"
      },
      "execution_count": 8,
      "outputs": []
    },
    {
      "cell_type": "code",
      "source": [
        "#loading osprey data\n",
        "osprey_path = '/content/drive/MyDrive/ml_climate_project_data/osprey/'\n",
        "csv_files = [f for f in os.listdir(osprey_path) if f.endswith('.csv')]\n",
        "osprey_df = pd.concat([pd.read_csv(os.path.join(osprey_path, file)) for file in sorted(csv_files)], ignore_index = True)\n",
        "\n",
        "#getting rid of missing / non-numeric values\n",
        "osprey_df['OBSERVATION COUNT'] = pd.to_numeric(osprey_df['OBSERVATION COUNT'], errors = 'coerce')\n",
        "osprey_df = osprey_df.dropna(subset = ['OBSERVATION COUNT'])\n",
        "osprey_df = osprey_df[['OBSERVATION DATE', 'OBSERVATION COUNT', 'COUNTY']]\n",
        "\n",
        "#loading bald_eagle data\n",
        "eagle_path = '/content/drive/MyDrive/ml_climate_project_data/bald_eagle/'\n",
        "csv_files = [f for f in os.listdir(eagle_path) if f.endswith('.csv')]\n",
        "bald_eagle_df = pd.concat([pd.read_csv(os.path.join(eagle_path, file)) for file in sorted(csv_files)], ignore_index = True)\n",
        "\n",
        "#getting rid of missing / non-numeric values\n",
        "bald_eagle_df['OBSERVATION COUNT'] = pd.to_numeric(bald_eagle_df['OBSERVATION COUNT'], errors = 'coerce')\n",
        "bald_eagle_df = bald_eagle_df.dropna(subset = ['OBSERVATION COUNT'])\n",
        "bald_eagle_df = bald_eagle_df[['OBSERVATION DATE', 'OBSERVATION COUNT', 'COUNTY']]\n",
        "\n",
        "#fish data\n",
        "fish_df = pd.read_csv('/content/drive/MyDrive/ml_climate_project_data/fishdata.csv')\n",
        "\n",
        "#temperature data\n",
        "temp_df = pd.read_csv('/content/drive/MyDrive/ml_climate_project_data/tempdata.csv')\n",
        "temp_df = temp_df[temp_df['Anomaly'] != -999]\n",
        "temp_df['year'] = temp_df['Date'].astype(str).str[:4].astype(int)\n",
        "temp_df['month'] = temp_df['Date'].astype(str).str[4:].astype(int)\n",
        "\n",
        "#combine and join data\n",
        "osprey_df[\"bird_type\"] = \"Osprey\"\n",
        "bald_eagle_df[\"bird_type\"] = \"Bald Eagle\"\n",
        "bird_df = pd.concat([osprey_df, bald_eagle_df], ignore_index = True)\n",
        "\n",
        "bird_df['OBSERVATION DATE'] = pd.to_datetime(bird_df['OBSERVATION DATE'])\n",
        "bird_df['year'] = bird_df['OBSERVATION DATE'].dt.year\n",
        "bird_df['month'] = bird_df['OBSERVATION DATE'].dt.month\n",
        "\n",
        "#combine with temperature data\n",
        "bird_temp_df = bird_df.merge(temp_df[['year', 'month', 'Anomaly']], on = ['year', 'month'], how = 'left')\n",
        "\n",
        "#combine with fish data\n",
        "combined_df = bird_temp_df.merge(fish_df, on = 'year', how = 'left')\n",
        "final_df = combined_df.dropna()\n",
        "final_df = final_df.rename(columns = {\"Anomaly\": \"temperature\", \"OBSERVATION COUNT\": \"bird_count\", \"Fish_Population\": \"fish_population\"})\n",
        "\n",
        "#merge data\n",
        "final_df['OBSERVATION DATE'] = pd.to_datetime(final_df['OBSERVATION DATE'])\n",
        "monthly_summary = final_df.groupby(['year', 'month', 'bird_type']).agg({'bird_count': 'sum', 'temperature': 'mean', 'runsize': 'mean', 'spawners': 'mean'}).reset_index()\n",
        "bird_pivot = monthly_summary.pivot_table(index = ['year', 'month'], columns = 'bird_type', values = 'bird_count', fill_value = 0).reset_index()\n",
        "bird_pivot.columns.name = None\n",
        "bird_pivot = bird_pivot.rename(columns = {'Osprey': 'osprey_count', 'Bald Eagle': 'bald_eagle_count'})\n",
        "temp_fish = monthly_summary.groupby(['year', 'month']).agg({'temperature': 'mean', 'runsize': 'mean', 'spawners': 'mean'}).reset_index()\n",
        "merged_df = pd.merge(bird_pivot, temp_fish, on = ['year', 'month'], how = 'left')"
      ],
      "metadata": {
        "id": "nfgwd55eeNBM"
      },
      "execution_count": null,
      "outputs": []
    },
    {
      "cell_type": "code",
      "source": [
        "#lagging data\n",
        "merged_df = merged_df.sort_values(by = ['year', 'month']).reset_index(drop = True)\n",
        "\n",
        "#lag by one month\n",
        "merged_df['osprey_count_lag1'] = merged_df['osprey_count'].shift(1)\n",
        "merged_df['temp_lag1'] = merged_df['temperature'].shift(1)\n",
        "merged_df['fish_lag1'] = merged_df['runsize'].shift(1)\n",
        "\n",
        "#lag by two months\n",
        "merged_df['osprey_count_lag2'] = merged_df['osprey_count'].shift(2)\n",
        "merged_df['temp_lag2'] = merged_df['temperature'].shift(2)\n",
        "merged_df['fish_lag2'] = merged_df['runsize'].shift(2)\n",
        "\n",
        "#lag by 3 months\n",
        "merged_df['osprey_count_lag3'] = merged_df['osprey_count'].shift(3)\n",
        "merged_df['temp_lag3'] = merged_df['temperature'].shift(3)\n",
        "merged_df['fish_lag3'] = merged_df['runsize'].shift(3)\n",
        "\n",
        "#rolling average by 3 months\n",
        "merged_df['osprey_count_roll3'] = merged_df['osprey_count'].rolling(window = 3).mean()\n",
        "merged_df['temp_roll3'] = merged_df['temperature'].rolling(window = 3).mean()\n",
        "merged_df['fish_roll3'] = merged_df['runsize'].rolling(window = 3).mean()\n",
        "\n",
        "merged_df = merged_df.dropna()"
      ],
      "metadata": {
        "id": "A1PrW2f8FuSm"
      },
      "execution_count": 11,
      "outputs": []
    }
  ]
}