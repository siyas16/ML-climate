{
  "nbformat": 4,
  "nbformat_minor": 0,
  "metadata": {
    "colab": {
      "provenance": []
    },
    "kernelspec": {
      "name": "python3",
      "display_name": "Python 3"
    },
    "language_info": {
      "name": "python"
    }
  },
  "cells": [
    {
      "cell_type": "code",
      "source": [
        "!apt-get install -y r-base\n",
        "!apt-get install -y libcurl4-openssl-dev libssl-dev libxml2-dev\n",
        "!R -e \"install.packages('lavaan')\"\n"
      ],
      "metadata": {
        "colab": {
          "base_uri": "https://localhost:8080/"
        },
        "id": "GuoT8ojImn_P",
        "outputId": "ba4496fb-d5cc-4f02-fe3f-49a09bdd1d98"
      },
      "execution_count": null,
      "outputs": [
        {
          "output_type": "stream",
          "name": "stdout",
          "text": [
            "Reading package lists... Done\n",
            "Building dependency tree... Done\n",
            "Reading state information... Done\n",
            "r-base is already the newest version (4.5.0-2.2204.0).\n",
            "0 upgraded, 0 newly installed, 0 to remove and 34 not upgraded.\n",
            "Reading package lists... Done\n",
            "Building dependency tree... Done\n",
            "Reading state information... Done\n",
            "libcurl4-openssl-dev is already the newest version (7.81.0-1ubuntu1.20).\n",
            "libssl-dev is already the newest version (3.0.2-0ubuntu1.19).\n",
            "libxml2-dev is already the newest version (2.9.13+dfsg-1ubuntu0.6).\n",
            "0 upgraded, 0 newly installed, 0 to remove and 34 not upgraded.\n",
            "\n",
            "R version 4.5.0 (2025-04-11) -- \"How About a Twenty-Six\"\n",
            "Copyright (C) 2025 The R Foundation for Statistical Computing\n",
            "Platform: x86_64-pc-linux-gnu\n",
            "\n",
            "R is free software and comes with ABSOLUTELY NO WARRANTY.\n",
            "You are welcome to redistribute it under certain conditions.\n",
            "Type 'license()' or 'licence()' for distribution details.\n",
            "\n",
            "  Natural language support but running in an English locale\n",
            "\n",
            "R is a collaborative project with many contributors.\n",
            "Type 'contributors()' for more information and\n",
            "'citation()' on how to cite R or R packages in publications.\n",
            "\n",
            "Type 'demo()' for some demos, 'help()' for on-line help, or\n",
            "'help.start()' for an HTML browser interface to help.\n",
            "Type 'q()' to quit R.\n",
            "\n",
            "> install.packages('lavaan')\n",
            "Installing package into ‘/usr/local/lib/R/site-library’\n",
            "(as ‘lib’ is unspecified)\n",
            "also installing the dependencies ‘mnormt’, ‘pbivnorm’, ‘numDeriv’, ‘quadprog’\n",
            "\n",
            "trying URL 'https://cran.rstudio.com/src/contrib/mnormt_2.1.1.tar.gz'\n",
            "trying URL 'https://cran.rstudio.com/src/contrib/pbivnorm_0.6.0.tar.gz'\n",
            "trying URL 'https://cran.rstudio.com/src/contrib/numDeriv_2016.8-1.1.tar.gz'\n",
            "trying URL 'https://cran.rstudio.com/src/contrib/quadprog_1.5-8.tar.gz'\n",
            "trying URL 'https://cran.rstudio.com/src/contrib/lavaan_0.6-19.tar.gz'\n",
            "* installing *source* package ‘mnormt’ ...\n",
            "** this is package ‘mnormt’ version ‘2.1.1’\n",
            "** package ‘mnormt’ successfully unpacked and MD5 sums checked\n",
            "** using staged installation\n",
            "** libs\n",
            "using C compiler: ‘gcc (Ubuntu 11.4.0-1ubuntu1~22.04) 11.4.0’\n",
            "using Fortran compiler: ‘GNU Fortran (Ubuntu 11.4.0-1ubuntu1~22.04) 11.4.0’\n",
            "gfortran  -fpic  -g -O2 -ffile-prefix-map=/build/r-base-TYDrW1/r-base-4.5.0=. -fstack-protector-strong  -c biv-nt.f -o biv-nt.o\n",
            "gcc -I\"/usr/share/R/include\" -DNDEBUG       -fpic  -g -O2 -ffile-prefix-map=/build/r-base-TYDrW1/r-base-4.5.0=. -fstack-protector-strong -Wformat -Werror=format-security -Wdate-time -D_FORTIFY_SOURCE=2  -c mnormt_init.c -o mnormt_init.o\n",
            "gfortran  -fpic  -g -O2 -ffile-prefix-map=/build/r-base-TYDrW1/r-base-4.5.0=. -fstack-protector-strong  -c rtmng.f -o rtmng.o\n",
            "gfortran  -fpic  -g -O2 -ffile-prefix-map=/build/r-base-TYDrW1/r-base-4.5.0=. -fstack-protector-strong  -c sadmvnt.f -o sadmvnt.o\n",
            "gfortran  -fpic  -g -O2 -ffile-prefix-map=/build/r-base-TYDrW1/r-base-4.5.0=. -fstack-protector-strong  -c tvpack.f -o tvpack.o\n",
            "gcc -shared -L/usr/lib/R/lib -Wl,-Bsymbolic-functions -flto=auto -ffat-lto-objects -flto=auto -Wl,-z,relro -o mnormt.so biv-nt.o mnormt_init.o rtmng.o sadmvnt.o tvpack.o -lgfortran -lm -lquadmath -L/usr/lib/R/lib -lR\n",
            "installing to /usr/local/lib/R/site-library/00LOCK-mnormt/00new/mnormt/libs\n",
            "** R\n",
            "** inst\n",
            "** byte-compile and prepare package for lazy loading\n",
            "** help\n",
            "*** installing help indices\n",
            "** building package indices\n",
            "** testing if installed package can be loaded from temporary location\n",
            "** checking absolute paths in shared objects and dynamic libraries\n",
            "** testing if installed package can be loaded from final location\n",
            "** testing if installed package keeps a record of temporary installation path\n",
            "* DONE (mnormt)\n",
            "* installing *source* package ‘pbivnorm’ ...\n",
            "** this is package ‘pbivnorm’ version ‘0.6.0’\n",
            "** package ‘pbivnorm’ successfully unpacked and MD5 sums checked\n",
            "** using staged installation\n",
            "** libs\n",
            "using Fortran compiler: ‘GNU Fortran (Ubuntu 11.4.0-1ubuntu1~22.04) 11.4.0’\n",
            "gfortran  -fpic  -g -O2 -ffile-prefix-map=/build/r-base-TYDrW1/r-base-4.5.0=. -fstack-protector-strong  -c pbivnorm.f -o pbivnorm.o\n",
            "gcc -shared -L/usr/lib/R/lib -Wl,-Bsymbolic-functions -flto=auto -ffat-lto-objects -flto=auto -Wl,-z,relro -o pbivnorm.so pbivnorm.o -lgfortran -lm -lquadmath -L/usr/lib/R/lib -lR\n",
            "installing to /usr/local/lib/R/site-library/00LOCK-pbivnorm/00new/pbivnorm/libs\n",
            "** R\n",
            "** byte-compile and prepare package for lazy loading\n",
            "** help\n",
            "*** installing help indices\n",
            "** building package indices\n",
            "** testing if installed package can be loaded from temporary location\n",
            "** checking absolute paths in shared objects and dynamic libraries\n",
            "** testing if installed package can be loaded from final location\n",
            "** testing if installed package keeps a record of temporary installation path\n",
            "* DONE (pbivnorm)\n",
            "* installing *source* package ‘numDeriv’ ...\n",
            "** this is package ‘numDeriv’ version ‘2016.8-1.1’\n",
            "** package ‘numDeriv’ successfully unpacked and MD5 sums checked\n",
            "** using staged installation\n",
            "** R\n",
            "** inst\n",
            "** byte-compile and prepare package for lazy loading\n",
            "** help\n",
            "*** installing help indices\n",
            "** building package indices\n",
            "** installing vignettes\n",
            "** testing if installed package can be loaded from temporary location\n",
            "** testing if installed package can be loaded from final location\n",
            "** testing if installed package keeps a record of temporary installation path\n",
            "* DONE (numDeriv)\n",
            "* installing *source* package ‘quadprog’ ...\n",
            "** this is package ‘quadprog’ version ‘1.5-8’\n",
            "** package ‘quadprog’ successfully unpacked and MD5 sums checked\n",
            "** using staged installation\n",
            "** libs\n",
            "using C compiler: ‘gcc (Ubuntu 11.4.0-1ubuntu1~22.04) 11.4.0’\n",
            "using Fortran compiler: ‘GNU Fortran (Ubuntu 11.4.0-1ubuntu1~22.04) 11.4.0’\n",
            "gfortran  -fvisibility=hidden -fpic -g -O2 -ffile-prefix-map=/build/r-base-TYDrW1/r-base-4.5.0=. -fstack-protector-strong -msse2 -mfpmath=sse   -fpic  -g -O2 -ffile-prefix-map=/build/r-base-TYDrW1/r-base-4.5.0=. -fstack-protector-strong  -c aind.f -o aind.o\n",
            "gcc -I\"/usr/share/R/include\" -DNDEBUG       -fpic  -g -O2 -ffile-prefix-map=/build/r-base-TYDrW1/r-base-4.5.0=. -fstack-protector-strong -Wformat -Werror=format-security -Wdate-time -D_FORTIFY_SOURCE=2  -c init.c -o init.o\n",
            "gfortran  -fvisibility=hidden -fpic -g -O2 -ffile-prefix-map=/build/r-base-TYDrW1/r-base-4.5.0=. -fstack-protector-strong -msse2 -mfpmath=sse   -fpic  -g -O2 -ffile-prefix-map=/build/r-base-TYDrW1/r-base-4.5.0=. -fstack-protector-strong  -c solve.QP.compact.f -o solve.QP.compact.o\n",
            "gfortran  -fvisibility=hidden -fpic -g -O2 -ffile-prefix-map=/build/r-base-TYDrW1/r-base-4.5.0=. -fstack-protector-strong -msse2 -mfpmath=sse   -fpic  -g -O2 -ffile-prefix-map=/build/r-base-TYDrW1/r-base-4.5.0=. -fstack-protector-strong  -c solve.QP.f -o solve.QP.o\n",
            "gfortran  -fvisibility=hidden -fpic -g -O2 -ffile-prefix-map=/build/r-base-TYDrW1/r-base-4.5.0=. -fstack-protector-strong -msse2 -mfpmath=sse   -fpic  -g -O2 -ffile-prefix-map=/build/r-base-TYDrW1/r-base-4.5.0=. -fstack-protector-strong  -c util.f -o util.o\n",
            "gcc -shared -L/usr/lib/R/lib -Wl,-Bsymbolic-functions -flto=auto -ffat-lto-objects -flto=auto -Wl,-z,relro -o quadprog.so aind.o init.o solve.QP.compact.o solve.QP.o util.o -lblas -lgfortran -lm -lquadmath -lgfortran -lm -lquadmath -L/usr/lib/R/lib -lR\n",
            "installing to /usr/local/lib/R/site-library/00LOCK-quadprog/00new/quadprog/libs\n",
            "** R\n",
            "** byte-compile and prepare package for lazy loading\n",
            "** help\n",
            "*** installing help indices\n",
            "** building package indices\n",
            "** testing if installed package can be loaded from temporary location\n",
            "** checking absolute paths in shared objects and dynamic libraries\n",
            "** testing if installed package can be loaded from final location\n",
            "** testing if installed package keeps a record of temporary installation path\n",
            "* DONE (quadprog)\n",
            "* installing *source* package ‘lavaan’ ...\n",
            "** this is package ‘lavaan’ version ‘0.6-19’\n",
            "** package ‘lavaan’ successfully unpacked and MD5 sums checked\n",
            "** using staged installation\n",
            "** R\n",
            "** data\n",
            "*** moving datasets to lazyload DB\n",
            "** inst\n",
            "** byte-compile and prepare package for lazy loading\n"
          ]
        }
      ]
    },
    {
      "cell_type": "code",
      "source": [
        "!pip install rpy2\n"
      ],
      "metadata": {
        "id": "UZ0F8D7TnZsR"
      },
      "execution_count": null,
      "outputs": []
    },
    {
      "cell_type": "code",
      "source": [
        "%load_ext rpy2.ipython\n"
      ],
      "metadata": {
        "id": "651QlVHhna7X"
      },
      "execution_count": null,
      "outputs": []
    },
    {
      "cell_type": "code",
      "source": [
        "%%R\n",
        "library(lavaan)\n",
        "merged_data <- read.csv(\"/content/merged_data.csv\")"
      ],
      "metadata": {
        "id": "CD__MQzim4Wk"
      },
      "execution_count": null,
      "outputs": []
    },
    {
      "cell_type": "code",
      "source": [
        "%%R\n",
        "model <- '\n",
        "  fish_availability ~ temperature\n",
        "  osprey_count ~ fish_availability + temperature + bald_eagle_count\n",
        "  bald_eagle_count ~ osprey_count + fish_availability + temperature\n",
        "'\n",
        "\n",
        "fit <- sem(model, data = merged_data)\n",
        "\n",
        "summary(fit, standardized = TRUE)"
      ],
      "metadata": {
        "id": "fv4pFFzXnyzV"
      },
      "execution_count": null,
      "outputs": []
    },
    {
      "cell_type": "code",
      "source": [
        "%%R\n",
        "model <- '\n",
        "  fish_availability ~ temperature + osprey_count\n",
        "  osprey_count ~ fish_availability + bald_eagle_count\n",
        "  bald_eagle_count ~ fish_availability\n",
        "'\n",
        "\n",
        "merged_data$fish_availability <- scale(merged_data$fish_availability)\n",
        "merged_data$osprey_count <- scale(merged_data$osprey_count)\n",
        "merged_data$bald_eagle_count <- scale(merged_data$bald_eagle_count)\n",
        "merged_data$temperature <- scale(merged_data$temperature)\n",
        "\n",
        "fit <- sem(model, data = merged_data)\n",
        "\n",
        "summary(fit, standardized = TRUE)"
      ],
      "metadata": {
        "id": "JcnyJ9jexdTN"
      },
      "execution_count": null,
      "outputs": []
    }
  ]
}