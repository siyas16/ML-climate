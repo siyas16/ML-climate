{
  "nbformat": 4,
  "nbformat_minor": 0,
  "metadata": {
    "colab": {
      "provenance": []
    },
    "kernelspec": {
      "name": "python3",
      "display_name": "Python 3"
    },
    "language_info": {
      "name": "python"
    }
  },
  "cells": [
    {
      "cell_type": "code",
      "execution_count": 3,
      "metadata": {
        "colab": {
          "base_uri": "https://localhost:8080/"
        },
        "id": "6p9ksh2OeAVN",
        "outputId": "aca438d5-11e9-41c8-ea72-31a90492a518"
      },
      "outputs": [
        {
          "output_type": "stream",
          "name": "stdout",
          "text": [
            "Mounted at /content/drive\n"
          ]
        }
      ],
      "source": [
        "from google.colab import drive\n",
        "drive.mount('/content/drive')"
      ]
    },
    {
      "cell_type": "code",
      "source": [
        "import pandas as pd\n",
        "import matplotlib.pyplot as plt\n",
        "import numpy as np\n",
        "\n",
        "from sklearn.linear_model import LinearRegression\n",
        "from sklearn.ensemble import RandomForestRegressor\n",
        "from sklearn.neural_network import MLPRegressor\n",
        "from sklearn.metrics import r2_score\n",
        "from sklearn.model_selection import train_test_split\n",
        "from google.colab import files"
      ],
      "metadata": {
        "id": "Al_Wihq7eLf-"
      },
      "execution_count": 16,
      "outputs": []
    },
    {
      "cell_type": "code",
      "source": [
        "#loading merged data path\n",
        "merged_df_path = '/content/drive/MyDrive/merged_df.csv'\n",
        "merged_df = pd.read_csv(merged_df_path)\n",
        "\n",
        "time_periods = [(1994, 2004), (2004, 2014), (2014, 2024)]"
      ],
      "metadata": {
        "id": "nfgwd55eeNBM"
      },
      "execution_count": 11,
      "outputs": []
    },
    {
      "cell_type": "markdown",
      "source": [
        "**Random Forest Time Series with 1 month Lag**"
      ],
      "metadata": {
        "id": "pi26MHGlXMwY"
      }
    },
    {
      "cell_type": "code",
      "source": [
        "#1 month lag\n",
        "results = []\n",
        "\n",
        "for start_year, end_year in time_periods:\n",
        "    period_data = merged_df[(merged_df['year'] >= start_year) & (merged_df['year'] < end_year)].copy()\n",
        "\n",
        "    #fish model\n",
        "    X_fish = period_data[['temp_lag1', 'spawners']]\n",
        "    y_fish = period_data[['runsize']]\n",
        "    X_train_fish, X_test_fish, y_train_fish, y_test_fish = train_test_split(X_fish, y_fish, test_size = 0.2, random_state = 42)\n",
        "    model_fish = RandomForestRegressor()\n",
        "    model_fish.fit(X_train_fish, y_train_fish)\n",
        "    y_pred_fish = model_fish.predict(X_test_fish)\n",
        "    fish_r2 = r2_score(y_test_fish, y_pred_fish)\n",
        "    period_data['predicted_fish_availability'] = model_fish.predict(X_fish)\n",
        "\n",
        "    #osprey model\n",
        "    X_osprey = period_data[['predicted_fish_availability', 'temp_lag1']]\n",
        "    y_osprey = period_data['osprey_count']\n",
        "    X_train_osprey, X_test_osprey, y_train_osprey, y_test_osprey = train_test_split(X_osprey, y_osprey, test_size = 0.2, random_state = 42)\n",
        "    model_osprey = RandomForestRegressor()\n",
        "    model_osprey.fit(X_train_osprey, y_train_osprey)\n",
        "    y_pred_osprey = model_osprey.predict(X_test_osprey)\n",
        "    osprey_r2 = r2_score(y_test_osprey, y_pred_osprey)\n",
        "\n",
        "    #bald eagle model\n",
        "    X_eagle = period_data[['predicted_osprey_count', 'predicted_fish_availability', 'temp_lag1']]\n",
        "    y_eagle = period_data['bald_eagle_count']\n",
        "    X_train_eagle, X_test_eagle, y_train_eagle, y_test_eagle = train_test_split(X_eagle, y_eagle, test_size = 0.2, random_state = 42)\n",
        "    model_eagle = RandomForestRegressor()\n",
        "    model_eagle.fit(X_train_eagle, y_train_eagle)\n",
        "    y_pred_eagle = model_eagle.predict(X_test_eagle)\n",
        "    eagle_r2 = r2_score(y_test_eagle, y_pred_eagle)\n",
        "\n",
        "    #results\n",
        "    results.append({\n",
        "        'start_year': start_year,\n",
        "        'end_year': end_year,\n",
        "        'fish_r2': fish_r2,\n",
        "        'osprey_r2': osprey_r2,\n",
        "        'eagle_r2': eagle_r2\n",
        "    })\n",
        "\n",
        "results_df = pd.DataFrame(results)[1:3]\n",
        "print(results_df)"
      ],
      "metadata": {
        "colab": {
          "base_uri": "https://localhost:8080/"
        },
        "id": "Q1XG3UfTXMSL",
        "outputId": "b535e59c-b760-45dd-c198-01b6fe625464"
      },
      "execution_count": 12,
      "outputs": [
        {
          "output_type": "stream",
          "name": "stderr",
          "text": [
            "/usr/local/lib/python3.11/dist-packages/sklearn/base.py:1389: DataConversionWarning: A column-vector y was passed when a 1d array was expected. Please change the shape of y to (n_samples,), for example using ravel().\n",
            "  return fit_method(estimator, *args, **kwargs)\n",
            "/usr/local/lib/python3.11/dist-packages/sklearn/base.py:1389: DataConversionWarning: A column-vector y was passed when a 1d array was expected. Please change the shape of y to (n_samples,), for example using ravel().\n",
            "  return fit_method(estimator, *args, **kwargs)\n",
            "/usr/local/lib/python3.11/dist-packages/sklearn/base.py:1389: DataConversionWarning: A column-vector y was passed when a 1d array was expected. Please change the shape of y to (n_samples,), for example using ravel().\n",
            "  return fit_method(estimator, *args, **kwargs)\n"
          ]
        },
        {
          "output_type": "stream",
          "name": "stdout",
          "text": [
            "   start_year  end_year   fish_r2  osprey_r2  eagle_r2\n",
            "1        2004      2014  0.998601   0.932889  0.416883\n",
            "2        2014      2024  0.998477   0.742444  0.874831\n"
          ]
        }
      ]
    },
    {
      "cell_type": "markdown",
      "source": [
        "**Random Forest Time Series with 2 month Lag**"
      ],
      "metadata": {
        "id": "fuwpFmVAZ8Ux"
      }
    },
    {
      "cell_type": "code",
      "source": [
        "#2 month lag\n",
        "results = []\n",
        "\n",
        "for start_year, end_year in time_periods:\n",
        "    period_data = merged_df[(merged_df['year'] >= start_year) & (merged_df['year'] < end_year)].copy()\n",
        "\n",
        "    #fish model\n",
        "    X_fish = period_data[['temp_lag2', 'spawners']]\n",
        "    y_fish = period_data[['runsize']]\n",
        "    X_train_fish, X_test_fish, y_train_fish, y_test_fish = train_test_split(X_fish, y_fish, test_size = 0.2, random_state = 42)\n",
        "    model_fish = RandomForestRegressor()\n",
        "    model_fish.fit(X_train_fish, y_train_fish)\n",
        "    y_pred_fish = model_fish.predict(X_test_fish)\n",
        "    fish_r2 = r2_score(y_test_fish, y_pred_fish)\n",
        "    period_data['predicted_fish_availability'] = model_fish.predict(X_fish)\n",
        "\n",
        "    #osprey model\n",
        "    X_osprey = period_data[['predicted_fish_availability', 'temp_lag2']]\n",
        "    y_osprey = period_data['osprey_count']\n",
        "    X_train_osprey, X_test_osprey, y_train_osprey, y_test_osprey = train_test_split(X_osprey, y_osprey, test_size = 0.2, random_state = 42)\n",
        "    model_osprey = RandomForestRegressor()\n",
        "    model_osprey.fit(X_train_osprey, y_train_osprey)\n",
        "    y_pred_osprey = model_osprey.predict(X_test_osprey)\n",
        "    osprey_r2 = r2_score(y_test_osprey, y_pred_osprey)\n",
        "\n",
        "    #bald eagle model\n",
        "    X_eagle = period_data[['predicted_osprey_count', 'predicted_fish_availability', 'temp_lag2']]\n",
        "    y_eagle = period_data['bald_eagle_count']\n",
        "    X_train_eagle, X_test_eagle, y_train_eagle, y_test_eagle = train_test_split(X_eagle, y_eagle, test_size = 0.2, random_state = 42)\n",
        "    model_eagle = RandomForestRegressor()\n",
        "    model_eagle.fit(X_train_eagle, y_train_eagle)\n",
        "    y_pred_eagle = model_eagle.predict(X_test_eagle)\n",
        "    eagle_r2 = r2_score(y_test_eagle, y_pred_eagle)\n",
        "    period_data['predicted_bald_eagle_count'] = model_eagle.predict(X_eagle)\n",
        "\n",
        "    #results\n",
        "    results.append({\n",
        "        'start_year': start_year,\n",
        "        'end_year': end_year,\n",
        "        'fish_r2': fish_r2,\n",
        "        'osprey_r2': osprey_r2,\n",
        "        'eagle_r2': eagle_r2\n",
        "    })\n",
        "\n",
        "results_df = pd.DataFrame(results)[1:3]\n",
        "print(results_df)"
      ],
      "metadata": {
        "colab": {
          "base_uri": "https://localhost:8080/"
        },
        "id": "U-ac7ZDWYMty",
        "outputId": "f43108d8-fc5c-49c3-bbb1-dd1e0a0acaee"
      },
      "execution_count": 13,
      "outputs": [
        {
          "output_type": "stream",
          "name": "stderr",
          "text": [
            "/usr/local/lib/python3.11/dist-packages/sklearn/base.py:1389: DataConversionWarning: A column-vector y was passed when a 1d array was expected. Please change the shape of y to (n_samples,), for example using ravel().\n",
            "  return fit_method(estimator, *args, **kwargs)\n",
            "/usr/local/lib/python3.11/dist-packages/sklearn/base.py:1389: DataConversionWarning: A column-vector y was passed when a 1d array was expected. Please change the shape of y to (n_samples,), for example using ravel().\n",
            "  return fit_method(estimator, *args, **kwargs)\n",
            "/usr/local/lib/python3.11/dist-packages/sklearn/base.py:1389: DataConversionWarning: A column-vector y was passed when a 1d array was expected. Please change the shape of y to (n_samples,), for example using ravel().\n",
            "  return fit_method(estimator, *args, **kwargs)\n"
          ]
        },
        {
          "output_type": "stream",
          "name": "stdout",
          "text": [
            "   start_year  end_year   fish_r2  osprey_r2  eagle_r2\n",
            "1        2004      2014  0.996688   0.902604  0.475515\n",
            "2        2014      2024  0.999900   0.853463  0.795225\n"
          ]
        }
      ]
    },
    {
      "cell_type": "markdown",
      "source": [
        "**Random Forest Time Series with 3 month Lag**"
      ],
      "metadata": {
        "id": "sTULu9lgaF0B"
      }
    },
    {
      "cell_type": "code",
      "source": [
        "#3 month lag\n",
        "results = []\n",
        "\n",
        "for start_year, end_year in time_periods:\n",
        "    period_data = merged_df[(merged_df['year'] >= start_year) & (merged_df['year'] < end_year)].copy()\n",
        "\n",
        "    #fish model\n",
        "    X_fish = period_data[['temp_lag3', 'spawners']]\n",
        "    y_fish = period_data[['runsize']]\n",
        "    X_train_fish, X_test_fish, y_train_fish, y_test_fish = train_test_split(X_fish, y_fish, test_size = 0.2, random_state = 42)\n",
        "    model_fish = RandomForestRegressor()\n",
        "    model_fish.fit(X_train_fish, y_train_fish)\n",
        "    y_pred_fish = model_fish.predict(X_test_fish)\n",
        "    fish_r2 = r2_score(y_test_fish, y_pred_fish)\n",
        "    period_data['predicted_fish_availability'] = model_fish.predict(X_fish)\n",
        "\n",
        "    #osprey model\n",
        "    X_osprey = period_data[['predicted_fish_availability', 'temp_lag3']]\n",
        "    y_osprey = period_data['osprey_count']\n",
        "    X_train_osprey, X_test_osprey, y_train_osprey, y_test_osprey = train_test_split(X_osprey, y_osprey, test_size = 0.2, random_state = 42)\n",
        "    model_osprey = RandomForestRegressor()\n",
        "    model_osprey.fit(X_train_osprey, y_train_osprey)\n",
        "    y_pred_osprey = model_osprey.predict(X_test_osprey)\n",
        "    osprey_r2 = r2_score(y_test_osprey, y_pred_osprey)\n",
        "\n",
        "    #bald eagle model\n",
        "    X_eagle = period_data[['predicted_osprey_count', 'predicted_fish_availability', 'temp_lag3']]\n",
        "    y_eagle = period_data['bald_eagle_count']\n",
        "    X_train_eagle, X_test_eagle, y_train_eagle, y_test_eagle = train_test_split(X_eagle, y_eagle, test_size = 0.2, random_state = 42)\n",
        "    model_eagle = RandomForestRegressor()\n",
        "    model_eagle.fit(X_train_eagle, y_train_eagle)\n",
        "    y_pred_eagle = model_eagle.predict(X_test_eagle)\n",
        "    eagle_r2 = r2_score(y_test_eagle, y_pred_eagle)\n",
        "    period_data['predicted_bald_eagle_count'] = model_eagle.predict(X_eagle)\n",
        "\n",
        "    #results\n",
        "    results.append({\n",
        "        'start_year': start_year,\n",
        "        'end_year': end_year,\n",
        "        'fish_r2': fish_r2,\n",
        "        'osprey_r2': osprey_r2,\n",
        "        'eagle_r2': eagle_r2\n",
        "    })\n",
        "\n",
        "results_df = pd.DataFrame(results)[1:3]\n",
        "print(results_df)"
      ],
      "metadata": {
        "colab": {
          "base_uri": "https://localhost:8080/"
        },
        "id": "QYWAXeNnbrNL",
        "outputId": "86fa8a15-c7e6-49c3-bd24-39ba965d7ab7"
      },
      "execution_count": 14,
      "outputs": [
        {
          "output_type": "stream",
          "name": "stderr",
          "text": [
            "/usr/local/lib/python3.11/dist-packages/sklearn/base.py:1389: DataConversionWarning: A column-vector y was passed when a 1d array was expected. Please change the shape of y to (n_samples,), for example using ravel().\n",
            "  return fit_method(estimator, *args, **kwargs)\n",
            "/usr/local/lib/python3.11/dist-packages/sklearn/base.py:1389: DataConversionWarning: A column-vector y was passed when a 1d array was expected. Please change the shape of y to (n_samples,), for example using ravel().\n",
            "  return fit_method(estimator, *args, **kwargs)\n",
            "/usr/local/lib/python3.11/dist-packages/sklearn/base.py:1389: DataConversionWarning: A column-vector y was passed when a 1d array was expected. Please change the shape of y to (n_samples,), for example using ravel().\n",
            "  return fit_method(estimator, *args, **kwargs)\n"
          ]
        },
        {
          "output_type": "stream",
          "name": "stdout",
          "text": [
            "   start_year  end_year   fish_r2  osprey_r2  eagle_r2\n",
            "1        2004      2014  0.999934   0.869378  0.451257\n",
            "2        2014      2024  0.999552   0.695985  0.744330\n"
          ]
        }
      ]
    },
    {
      "cell_type": "markdown",
      "source": [
        "**Random Forest Time Series with 3 month Rolling Average**"
      ],
      "metadata": {
        "id": "6DXB9jl_aIb3"
      }
    },
    {
      "cell_type": "code",
      "source": [
        "#3 month rolling average\n",
        "results = []\n",
        "\n",
        "for start_year, end_year in time_periods:\n",
        "    period_data = merged_df[(merged_df['year'] >= start_year) & (merged_df['year'] < end_year)].copy()\n",
        "\n",
        "    #fish model\n",
        "    X_fish = period_data[['temp_roll3', 'spawners']]\n",
        "    y_fish = period_data[['runsize']]\n",
        "    X_train_fish, X_test_fish, y_train_fish, y_test_fish = train_test_split(X_fish, y_fish, test_size = 0.2, random_state = 42)\n",
        "    model_fish = RandomForestRegressor()\n",
        "    model_fish.fit(X_train_fish, y_train_fish)\n",
        "    y_pred_fish = model_fish.predict(X_test_fish)\n",
        "    fish_r2 = r2_score(y_test_fish, y_pred_fish)\n",
        "    period_data['predicted_fish_availability'] = model_fish.predict(X_fish)\n",
        "\n",
        "    #osprey model\n",
        "    X_osprey = period_data[['predicted_fish_availability', 'temp_roll3']]\n",
        "    y_osprey = period_data['osprey_count']\n",
        "    X_train_osprey, X_test_osprey, y_train_osprey, y_test_osprey = train_test_split(X_osprey, y_osprey, test_size = 0.2, random_state = 42)\n",
        "    model_osprey = RandomForestRegressor()\n",
        "    model_osprey.fit(X_train_osprey, y_train_osprey)\n",
        "    y_pred_osprey = model_osprey.predict(X_test_osprey)\n",
        "    osprey_r2 = r2_score(y_test_osprey, y_pred_osprey)\n",
        "\n",
        "    #bald eagle model\n",
        "    X_eagle = period_data[['predicted_osprey_count', 'predicted_fish_availability', 'temp_roll3']]\n",
        "    y_eagle = period_data['bald_eagle_count']\n",
        "    X_train_eagle, X_test_eagle, y_train_eagle, y_test_eagle = train_test_split(X_eagle, y_eagle, test_size=0.2, random_state=42)\n",
        "    model_eagle = RandomForestRegressor()\n",
        "    model_eagle.fit(X_train_eagle, y_train_eagle)\n",
        "    y_pred_eagle = model_eagle.predict(X_test_eagle)\n",
        "    eagle_r2 = r2_score(y_test_eagle, y_pred_eagle)\n",
        "    period_data['predicted_bald_eagle_count'] = model_eagle.predict(X_eagle)\n",
        "\n",
        "    #results\n",
        "    results.append({\n",
        "        'start_year': start_year,\n",
        "        'end_year': end_year,\n",
        "        'fish_r2': fish_r2,\n",
        "        'osprey_r2': osprey_r2,\n",
        "        'eagle_r2': eagle_r2\n",
        "    })\n",
        "\n",
        "results_df = pd.DataFrame(results[1:3])\n",
        "print(results_df)"
      ],
      "metadata": {
        "colab": {
          "base_uri": "https://localhost:8080/"
        },
        "id": "peHVShVEYP-9",
        "outputId": "047e0746-cc6a-45d4-8207-b8394a130b65"
      },
      "execution_count": 15,
      "outputs": [
        {
          "output_type": "stream",
          "name": "stderr",
          "text": [
            "/usr/local/lib/python3.11/dist-packages/sklearn/base.py:1389: DataConversionWarning: A column-vector y was passed when a 1d array was expected. Please change the shape of y to (n_samples,), for example using ravel().\n",
            "  return fit_method(estimator, *args, **kwargs)\n",
            "/usr/local/lib/python3.11/dist-packages/sklearn/base.py:1389: DataConversionWarning: A column-vector y was passed when a 1d array was expected. Please change the shape of y to (n_samples,), for example using ravel().\n",
            "  return fit_method(estimator, *args, **kwargs)\n",
            "/usr/local/lib/python3.11/dist-packages/sklearn/base.py:1389: DataConversionWarning: A column-vector y was passed when a 1d array was expected. Please change the shape of y to (n_samples,), for example using ravel().\n",
            "  return fit_method(estimator, *args, **kwargs)\n"
          ]
        },
        {
          "output_type": "stream",
          "name": "stdout",
          "text": [
            "   start_year  end_year   fish_r2  osprey_r2  eagle_r2\n",
            "0        2004      2014  0.986698   0.924807  0.445145\n",
            "1        2014      2024  0.998478   0.812999  0.838065\n"
          ]
        }
      ]
    },
    {
      "cell_type": "markdown",
      "source": [
        "**Competition Graph**"
      ],
      "metadata": {
        "id": "nbMxLjXBjNi8"
      }
    },
    {
      "cell_type": "code",
      "source": [
        "baseline_temp = merged_df['temp_roll3'].mean()\n",
        "\n",
        "#simulate a temperature increase from 0 to 1.5°C above baseline\n",
        "temperature_increase = np.linspace(0, 1.5, 100)\n",
        "temperature_range = baseline_temp + temperature_increase\n",
        "\n",
        "spawners_fixed = merged_df['spawners'].mean()\n",
        "fish_availability_range = model_fish.predict(\n",
        "    np.column_stack([temperature_range, np.ones_like(temperature_range) * spawners_fixed])\n",
        ")\n",
        "\n",
        "X_sim_osprey = np.column_stack([fish_availability_range, temperature_range])\n",
        "osprey_pred = model_osprey.predict(X_sim_osprey)\n",
        "\n",
        "interaction = fish_availability_range * osprey_pred\n",
        "X_sim_eagle = np.column_stack([interaction, fish_availability_range, osprey_pred])\n",
        "eagle_pred = model_eagle.predict(X_sim_eagle)\n",
        "\n",
        "#competition ratio\n",
        "population_ratio = eagle_pred / osprey_pred\n",
        "\n",
        "#plot\n",
        "plt.figure(figsize = (10,6))\n",
        "plt.plot(temperature_increase, population_ratio, color = 'g')\n",
        "plt.xlabel(\"Temperature Increase (°C from baseline)\")\n",
        "plt.ylabel(\"Bald Eagle / Osprey Population Ratio\")\n",
        "plt.title(\"Effect of Temperature Increase on Competition\")\n",
        "plt.grid(True)\n",
        "plt.show()"
      ],
      "metadata": {
        "colab": {
          "base_uri": "https://localhost:8080/",
          "height": 671
        },
        "id": "Z7hFfIHtmU0Y",
        "outputId": "7b5e42ac-c659-4988-c4fe-831131478bc1"
      },
      "execution_count": 18,
      "outputs": [
        {
          "output_type": "stream",
          "name": "stderr",
          "text": [
            "/usr/local/lib/python3.11/dist-packages/sklearn/utils/validation.py:2739: UserWarning: X does not have valid feature names, but RandomForestRegressor was fitted with feature names\n",
            "  warnings.warn(\n",
            "/usr/local/lib/python3.11/dist-packages/sklearn/utils/validation.py:2739: UserWarning: X does not have valid feature names, but RandomForestRegressor was fitted with feature names\n",
            "  warnings.warn(\n",
            "/usr/local/lib/python3.11/dist-packages/sklearn/utils/validation.py:2739: UserWarning: X does not have valid feature names, but RandomForestRegressor was fitted with feature names\n",
            "  warnings.warn(\n"
          ]
        },
        {
          "output_type": "display_data",
          "data": {
            "text/plain": [
              "<Figure size 1000x600 with 1 Axes>"
            ],
            "image/png": "[encoded data removed]"
          },
          "metadata": {}
        }
      ]
    }
  ]
}