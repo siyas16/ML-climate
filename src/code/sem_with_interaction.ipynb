{
  "nbformat": 4,
  "nbformat_minor": 0,
  "metadata": {
    "colab": {
      "provenance": []
    },
    "kernelspec": {
      "name": "python3",
      "display_name": "Python 3"
    },
    "language_info": {
      "name": "python"
    }
  },
  "cells": [
    {
      "cell_type": "code",
      "execution_count": null,
      "metadata": {
        "id": "9EglhhALS8xf"
      },
      "outputs": [],
      "source": [
        "import pandas as pd\n",
        "import numpy as np\n",
        "import torch\n",
        "import torch.nn as nn\n",
        "import torch.optim as optim\n",
        "\n",
        "from sklearn.preprocessing import StandardScaler\n",
        "from causallearn.search.ScoreBased.GES import ges\n",
        "from causallearn.utils.GraphUtils import GraphUtils\n",
        "from econml.iv.nnet import DeepIV\n",
        "from scipy.stats import pearsonr"
      ]
    },
    {
      "cell_type": "code",
      "source": [
        "# data preprocessing\n",
        "df = pd.read_csv(\"bird_climate_data.csv\")\n",
        "for lag in [1, 3, 6, 12]:\n",
        "    df[f\"fish_lag_{lag}\"] = df[\"fish_population\"].shift(lag)\n",
        "    df[f\"temp_lag_{lag}\"] = df[\"temperature\"].shift(lag)"
      ],
      "metadata": {
        "id": "0NJ8nV2aS_8a"
      },
      "execution_count": null,
      "outputs": []
    },
    {
      "cell_type": "code",
      "source": [
        "# standardize data\n",
        "scaler = StandardScaler()\n",
        "df_scaled = scaler.fit_transform(df.dropna())\n",
        "df = pd.DataFrame(df_scaled, columns = df.columns)\n",
        "df.dropna(inplace = True)\n"
      ],
      "metadata": {
        "id": "Pq7L4lnrTEWZ"
      },
      "execution_count": null,
      "outputs": []
    },
    {
      "cell_type": "code",
      "source": [
        "# learn dag structure\n",
        "data_matrix = df.values\n",
        "cg = ges(data_matrix)\n",
        "GraphUtils.draw_graph(cg)\n"
      ],
      "metadata": {
        "id": "YD9YYBSVTHhN"
      },
      "execution_count": null,
      "outputs": []
    },
    {
      "cell_type": "code",
      "source": [
        "def extract_val_from_dag(graph, target_var):\n",
        "    val = []\n",
        "    for edge in graph.G.edges:\n",
        "        if edge[1] == target_var:\n",
        "            val.append(edge[0])\n",
        "    return val\n",
        "\n",
        "val_ = extract_val_from_dag(cg, \"osprey_population\")\n",
        "print(f\"Osprey Population: {val_}\")\n"
      ],
      "metadata": {
        "id": "dAnimq-0TK7R"
      },
      "execution_count": null,
      "outputs": []
    },
    {
      "source": [
        "class CausalSEM(nn.Module):\n",
        "    def __init__(self, input_dim):\n",
        "        super(CausalSEM, self).__init__()\n",
        "        self.layer1 = nn.Linear(input_dim, 64)\n",
        "        self.layer2 = nn.Linear(64, 64)\n",
        "        # Create interaction term using element-wise multiplication\n",
        "        self.interaction_layer = nn.Linear(2, 64)  # Assuming 2 features interact\n",
        "        self.layer3 = nn.Linear(64 + 64, 1) # combine features and interactions\n",
        "\n",
        "    def forward(self, x):\n",
        "        x1 = torch.relu(self.layer1(x))\n",
        "        x2 = torch.relu(self.layer2(x))\n",
        "        # Extract the interacting features (adjust indices as needed)\n",
        "        interaction_features = x[:, [df.columns.get_loc(\"fish_population\"), df.columns.get_loc(\"temperature\")]]\n",
        "        interaction_output = torch.relu(self.interaction_layer(interaction_features))\n",
        "        # Concatenate original features and interaction output\n",
        "        combined_features = torch.cat([x1, interaction_output], dim=1)\n",
        "        return self.layer3(combined_features)"
      ],
      "cell_type": "code",
      "metadata": {
        "id": "nqESMDmlBD0Q"
      },
      "execution_count": null,
      "outputs": []
    },
    {
      "cell_type": "code",
      "source": [
        "#training\n",
        "X_train_causal = df[val_].values\n",
        "y_train = df[\"osprey_population\"].values\n",
        "\n",
        "X_train_causal = torch.tensor(X_train_causal, dtype = torch.float32)\n",
        "y_train = torch.tensor(y_train, dtype = torch.float32).view(-1, 1)\n",
        "\n",
        "model = CausalSEM(input_dim = X_train_causal.shape[1])\n",
        "optimizer = optim.Adam(model.parameters(), lr = 0.001)\n",
        "loss_fn = nn.MSELoss()\n",
        "\n",
        "for epoch in range(500):\n",
        "    optimizer.zero_grad()\n",
        "    predictions = model(X_train_causal)\n",
        "    loss = loss_fn(predictions, y_train)\n",
        "    loss.backward()\n",
        "    optimizer.step()\n",
        "\n",
        "#causal effect estimation\n",
        "corr, p_val = pearsonr(df[\"fish_population\"], df[\"osprey_population\"])\n",
        "print(f\"Strength (Fish Population vs Osprey Population): r={corr}, p={p_val}\")\n",
        "\n",
        "if p_val > 0.05:\n",
        "    raise ValueError(\"Fish population is not a strong IV.\")\n",
        "\n",
        "#training\n",
        "deep_iv = DeepIV(n_hidden = 128, n_layers = 3, optimizer = \"adam\")\n",
        "deep_iv.fit(X_train_causal, df[\"fish_population\"].values, df[\"osprey_population\"].values)\n",
        "\n",
        "#counterfactual. ex: what if fish availability drops 20%?\n",
        "X_test_counterfactual = X_train_causal.clone()\n",
        "X_test_counterfactual[:, df.columns.get_loc(\"fish_population\")] *= 0.8  #reduce fish by 20%\n",
        "\n",
        "y_counterfactual = deep_iv.predict(X_test_counterfactual)\n",
        "print(f\"Counterfactual Osprey Population: {y_counterfactual.mean()}\")\n"
      ],
      "metadata": {
        "id": "QutLbimlTU-J"
      },
      "execution_count": null,
      "outputs": []
    },
    {
      "cell_type": "code",
      "source": [
        "#forcasting\n",
        "class BirdForecastingModel(nn.Module):\n",
        "    def __init__(self, input_size, hidden_dim=128, num_layers=3):\n",
        "        super(BirdForecastingModel, self).__init__()\n",
        "        self.transformer = nn.Transformer(d_model = hidden_dim, nhead = 8, num_encoder_layers = num_layers)\n",
        "        self.fc_out = nn.Linear(hidden_dim, 1)\n",
        "\n",
        "    def forward(self, x):\n",
        "        x = self.transformer(x, x)\n",
        "        return self.fc_out(x)\n",
        "\n",
        "forecast_model = BirdForecastingModel(input_size = len(val_))\n",
        "\n",
        "#forecasting 50 years ahead under climate change\n",
        "X_forecast = df[val_].values.copy()\n",
        "X_forecast[:, df.columns.get_loc(\"temperature\")] += 3  #simulate +3°C warming\n",
        "\n",
        "X_forecast_tensor = torch.tensor(X_forecast, dtype = torch.float32)\n",
        "future_osprey = forecast_model(X_forecast_tensor).detach().numpy()\n",
        "print(f\"Projected Osprey Population Under +3°C Warming: {future_osprey.mean()}\")"
      ],
      "metadata": {
        "id": "cRuluvl3TdUI"
      },
      "execution_count": null,
      "outputs": []
    }
  ]
}
