{
  "nbformat": 4,
  "nbformat_minor": 0,
  "metadata": {
    "colab": {
      "provenance": []
    },
    "kernelspec": {
      "name": "python3",
      "display_name": "Python 3"
    },
    "language_info": {
      "name": "python"
    }
  },
  "cells": [
    {
      "cell_type": "code",
      "execution_count": 1,
      "metadata": {
        "colab": {
          "base_uri": "https://localhost:8080/"
        },
        "id": "6p9ksh2OeAVN",
        "outputId": "eba6f271-44dd-462b-c3e8-b2f83f45d4e3"
      },
      "outputs": [
        {
          "output_type": "stream",
          "name": "stdout",
          "text": [
            "Mounted at /content/drive\n"
          ]
        }
      ],
      "source": [
        "from google.colab import drive\n",
        "drive.mount('/content/drive')"
      ]
    },
    {
      "cell_type": "code",
      "source": [
        "!pip install causal-learn"
      ],
      "metadata": {
        "colab": {
          "base_uri": "https://localhost:8080/"
        },
        "id": "0wzyT067i-pP",
        "outputId": "22bd9e36-57bd-413c-c40d-93387752891f"
      },
      "execution_count": 3,
      "outputs": [
        {
          "output_type": "stream",
          "name": "stdout",
          "text": [
            "Collecting causal-learn\n",
            "  Downloading causal_learn-0.1.4.1-py3-none-any.whl.metadata (4.6 kB)\n",
            "Requirement already satisfied: numpy in /usr/local/lib/python3.11/dist-packages (from causal-learn) (2.0.2)\n",
            "Requirement already satisfied: scipy in /usr/local/lib/python3.11/dist-packages (from causal-learn) (1.14.1)\n",
            "Requirement already satisfied: scikit-learn in /usr/local/lib/python3.11/dist-packages (from causal-learn) (1.6.1)\n",
            "Requirement already satisfied: graphviz in /usr/local/lib/python3.11/dist-packages (from causal-learn) (0.20.3)\n",
            "Requirement already satisfied: statsmodels in /usr/local/lib/python3.11/dist-packages (from causal-learn) (0.14.4)\n",
            "Requirement already satisfied: pandas in /usr/local/lib/python3.11/dist-packages (from causal-learn) (2.2.2)\n",
            "Requirement already satisfied: matplotlib in /usr/local/lib/python3.11/dist-packages (from causal-learn) (3.10.0)\n",
            "Requirement already satisfied: networkx in /usr/local/lib/python3.11/dist-packages (from causal-learn) (3.4.2)\n",
            "Requirement already satisfied: pydot in /usr/local/lib/python3.11/dist-packages (from causal-learn) (3.0.4)\n",
            "Requirement already satisfied: tqdm in /usr/local/lib/python3.11/dist-packages (from causal-learn) (4.67.1)\n",
            "Collecting momentchi2 (from causal-learn)\n",
            "  Downloading momentchi2-0.1.8-py3-none-any.whl.metadata (6.1 kB)\n",
            "Requirement already satisfied: contourpy>=1.0.1 in /usr/local/lib/python3.11/dist-packages (from matplotlib->causal-learn) (1.3.2)\n",
            "Requirement already satisfied: cycler>=0.10 in /usr/local/lib/python3.11/dist-packages (from matplotlib->causal-learn) (0.12.1)\n",
            "Requirement already satisfied: fonttools>=4.22.0 in /usr/local/lib/python3.11/dist-packages (from matplotlib->causal-learn) (4.57.0)\n",
            "Requirement already satisfied: kiwisolver>=1.3.1 in /usr/local/lib/python3.11/dist-packages (from matplotlib->causal-learn) (1.4.8)\n",
            "Requirement already satisfied: packaging>=20.0 in /usr/local/lib/python3.11/dist-packages (from matplotlib->causal-learn) (24.2)\n",
            "Requirement already satisfied: pillow>=8 in /usr/local/lib/python3.11/dist-packages (from matplotlib->causal-learn) (11.1.0)\n",
            "Requirement already satisfied: pyparsing>=2.3.1 in /usr/local/lib/python3.11/dist-packages (from matplotlib->causal-learn) (3.2.3)\n",
            "Requirement already satisfied: python-dateutil>=2.7 in /usr/local/lib/python3.11/dist-packages (from matplotlib->causal-learn) (2.8.2)\n",
            "Requirement already satisfied: pytz>=2020.1 in /usr/local/lib/python3.11/dist-packages (from pandas->causal-learn) (2025.2)\n",
            "Requirement already satisfied: tzdata>=2022.7 in /usr/local/lib/python3.11/dist-packages (from pandas->causal-learn) (2025.2)\n",
            "Requirement already satisfied: joblib>=1.2.0 in /usr/local/lib/python3.11/dist-packages (from scikit-learn->causal-learn) (1.4.2)\n",
            "Requirement already satisfied: threadpoolctl>=3.1.0 in /usr/local/lib/python3.11/dist-packages (from scikit-learn->causal-learn) (3.6.0)\n",
            "Requirement already satisfied: patsy>=0.5.6 in /usr/local/lib/python3.11/dist-packages (from statsmodels->causal-learn) (1.0.1)\n",
            "Requirement already satisfied: six>=1.5 in /usr/local/lib/python3.11/dist-packages (from python-dateutil>=2.7->matplotlib->causal-learn) (1.17.0)\n",
            "Downloading causal_learn-0.1.4.1-py3-none-any.whl (192 kB)\n",
            "\u001b[2K   \u001b[90m━━━━━━━━━━━━━━━━━━━━━━━━━━━━━━━━━━━━━━━━\u001b[0m \u001b[32m192.6/192.6 kB\u001b[0m \u001b[31m6.5 MB/s\u001b[0m eta \u001b[36m0:00:00\u001b[0m\n",
            "\u001b[?25hDownloading momentchi2-0.1.8-py3-none-any.whl (11 kB)\n",
            "Installing collected packages: momentchi2, causal-learn\n",
            "Successfully installed causal-learn-0.1.4.1 momentchi2-0.1.8\n"
          ]
        }
      ]
    },
    {
      "cell_type": "code",
      "source": [
        "import numpy as np\n",
        "import pandas as pd\n",
        "import os\n",
        "import seaborn as sns\n",
        "import matplotlib.pyplot as plt\n",
        "import torch\n",
        "import torch.nn as nn\n",
        "import torch.optim as optim\n",
        "import matplotlib.image as mpimg\n",
        "import io\n",
        "\n",
        "from causallearn.search.ScoreBased.GES import ges\n",
        "from causallearn.utils.GraphUtils import GraphUtils\n",
        "from sklearn.linear_model import LinearRegression\n",
        "from sklearn.ensemble import RandomForestRegressor\n",
        "from sklearn.neural_network import MLPRegressor\n",
        "from sklearn.metrics import r2_score, mean_squared_error\n",
        "from sklearn.model_selection import train_test_split"
      ],
      "metadata": {
        "id": "Al_Wihq7eLf-"
      },
      "execution_count": 26,
      "outputs": []
    },
    {
      "cell_type": "code",
      "source": [
        "#loading osprey data\n",
        "osprey_path = '/content/drive/MyDrive/ml_climate_project_data/osprey/'\n",
        "\n",
        "csv_files = [f for f in os.listdir(osprey_path) if f.endswith('.csv')]\n",
        "\n",
        "osprey_df = pd.concat(\n",
        "    [pd.read_csv(os.path.join(osprey_path, file)) for file in sorted(csv_files)],\n",
        "    ignore_index = True\n",
        ")\n",
        "\n",
        "#getting rid of missing / non-numeric values\n",
        "osprey_df['OBSERVATION COUNT'] = pd.to_numeric(osprey_df['OBSERVATION COUNT'], errors = 'coerce')\n",
        "osprey_df = osprey_df.dropna(subset = ['OBSERVATION COUNT'])\n",
        "\n",
        "osprey_df = osprey_df[['OBSERVATION DATE', 'OBSERVATION COUNT', 'COUNTY']]\n",
        "\n",
        "#display 5 rows\n",
        "osprey_df.head()"
      ],
      "metadata": {
        "colab": {
          "base_uri": "https://localhost:8080/",
          "height": 563
        },
        "id": "nfgwd55eeNBM",
        "outputId": "e4e22496-18b7-40d5-b1c8-81d0ea4de98f"
      },
      "execution_count": 5,
      "outputs": [
        {
          "output_type": "stream",
          "name": "stderr",
          "text": [
            "<ipython-input-5-79d17260af50>:7: DtypeWarning: Columns (7,8) have mixed types. Specify dtype option on import or set low_memory=False.\n",
            "  [pd.read_csv(os.path.join(osprey_path, file)) for file in sorted(csv_files)],\n",
            "<ipython-input-5-79d17260af50>:7: DtypeWarning: Columns (7,8) have mixed types. Specify dtype option on import or set low_memory=False.\n",
            "  [pd.read_csv(os.path.join(osprey_path, file)) for file in sorted(csv_files)],\n",
            "<ipython-input-5-79d17260af50>:7: DtypeWarning: Columns (7,8) have mixed types. Specify dtype option on import or set low_memory=False.\n",
            "  [pd.read_csv(os.path.join(osprey_path, file)) for file in sorted(csv_files)],\n",
            "<ipython-input-5-79d17260af50>:7: DtypeWarning: Columns (7,8) have mixed types. Specify dtype option on import or set low_memory=False.\n",
            "  [pd.read_csv(os.path.join(osprey_path, file)) for file in sorted(csv_files)],\n",
            "<ipython-input-5-79d17260af50>:7: DtypeWarning: Columns (7,8) have mixed types. Specify dtype option on import or set low_memory=False.\n",
            "  [pd.read_csv(os.path.join(osprey_path, file)) for file in sorted(csv_files)],\n",
            "<ipython-input-5-79d17260af50>:7: DtypeWarning: Columns (7,8) have mixed types. Specify dtype option on import or set low_memory=False.\n",
            "  [pd.read_csv(os.path.join(osprey_path, file)) for file in sorted(csv_files)],\n",
            "<ipython-input-5-79d17260af50>:7: DtypeWarning: Columns (7,8) have mixed types. Specify dtype option on import or set low_memory=False.\n",
            "  [pd.read_csv(os.path.join(osprey_path, file)) for file in sorted(csv_files)],\n",
            "<ipython-input-5-79d17260af50>:7: DtypeWarning: Columns (7,8) have mixed types. Specify dtype option on import or set low_memory=False.\n",
            "  [pd.read_csv(os.path.join(osprey_path, file)) for file in sorted(csv_files)],\n",
            "<ipython-input-5-79d17260af50>:7: DtypeWarning: Columns (7,8) have mixed types. Specify dtype option on import or set low_memory=False.\n",
            "  [pd.read_csv(os.path.join(osprey_path, file)) for file in sorted(csv_files)],\n",
            "<ipython-input-5-79d17260af50>:7: DtypeWarning: Columns (7,8) have mixed types. Specify dtype option on import or set low_memory=False.\n",
            "  [pd.read_csv(os.path.join(osprey_path, file)) for file in sorted(csv_files)],\n"
          ]
        },
        {
          "output_type": "execute_result",
          "data": {
            "text/plain": [
              "  OBSERVATION DATE  OBSERVATION COUNT       COUNTY\n",
              "0       1994-01-09                1.0  Los Angeles\n",
              "1       1994-01-08                1.0        Marin\n",
              "3       1994-01-13                1.0     Monterey\n",
              "4       1994-01-17                1.0     Monterey\n",
              "6       1994-01-15                1.0       Orange"
            ],
            "text/html": [
              "\n",
              "  <div id=\"df-4cd54fb8-d85e-4965-94f6-15d78429281f\" class=\"colab-df-container\">\n",
              "    <div>\n",
              "<style scoped>\n",
              "    .dataframe tbody tr th:only-of-type {\n",
              "        vertical-align: middle;\n",
              "    }\n",
              "\n",
              "    .dataframe tbody tr th {\n",
              "        vertical-align: top;\n",
              "    }\n",
              "\n",
              "    .dataframe thead th {\n",
              "        text-align: right;\n",
              "    }\n",
              "</style>\n",
              "<table border=\"1\" class=\"dataframe\">\n",
              "  <thead>\n",
              "    <tr style=\"text-align: right;\">\n",
              "      <th></th>\n",
              "      <th>OBSERVATION DATE</th>\n",
              "      <th>OBSERVATION COUNT</th>\n",
              "      <th>COUNTY</th>\n",
              "    </tr>\n",
              "  </thead>\n",
              "  <tbody>\n",
              "    <tr>\n",
              "      <th>0</th>\n",
              "      <td>1994-01-09</td>\n",
              "      <td>1.0</td>\n",
              "      <td>Los Angeles</td>\n",
              "    </tr>\n",
              "    <tr>\n",
              "      <th>1</th>\n",
              "      <td>1994-01-08</td>\n",
              "      <td>1.0</td>\n",
              "      <td>Marin</td>\n",
              "    </tr>\n",
              "    <tr>\n",
              "      <th>3</th>\n",
              "      <td>1994-01-13</td>\n",
              "      <td>1.0</td>\n",
              "      <td>Monterey</td>\n",
              "    </tr>\n",
              "    <tr>\n",
              "      <th>4</th>\n",
              "      <td>1994-01-17</td>\n",
              "      <td>1.0</td>\n",
              "      <td>Monterey</td>\n",
              "    </tr>\n",
              "    <tr>\n",
              "      <th>6</th>\n",
              "      <td>1994-01-15</td>\n",
              "      <td>1.0</td>\n",
              "      <td>Orange</td>\n",
              "    </tr>\n",
              "  </tbody>\n",
              "</table>\n",
              "</div>\n",
              "    <div class=\"colab-df-buttons\">\n",
              "\n",
              "  <div class=\"colab-df-container\">\n",
              "    <button class=\"colab-df-convert\" onclick=\"convertToInteractive('df-4cd54fb8-d85e-4965-94f6-15d78429281f')\"\n",
              "            title=\"Convert this dataframe to an interactive table.\"\n",
              "            style=\"display:none;\">\n",
              "\n",
              "  <svg xmlns=\"http://www.w3.org/2000/svg\" height=\"24px\" viewBox=\"0 -960 960 960\">\n",
              "    <path d=\"M120-120v-720h720v720H120Zm60-500h600v-160H180v160Zm220 220h160v-160H400v160Zm0 220h160v-160H400v160ZM180-400h160v-160H180v160Zm440 0h160v-160H620v160ZM180-180h160v-160H180v160Zm440 0h160v-160H620v160Z\"/>\n",
              "  </svg>\n",
              "    </button>\n",
              "\n",
              "  <style>\n",
              "    .colab-df-container {\n",
              "      display:flex;\n",
              "      gap: 12px;\n",
              "    }\n",
              "\n",
              "    .colab-df-convert {\n",
              "      background-color: #E8F0FE;\n",
              "      border: none;\n",
              "      border-radius: 50%;\n",
              "      cursor: pointer;\n",
              "      display: none;\n",
              "      fill: #1967D2;\n",
              "      height: 32px;\n",
              "      padding: 0 0 0 0;\n",
              "      width: 32px;\n",
              "    }\n",
              "\n",
              "    .colab-df-convert:hover {\n",
              "      background-color: #E2EBFA;\n",
              "      box-shadow: 0px 1px 2px rgba(60, 64, 67, 0.3), 0px 1px 3px 1px rgba(60, 64, 67, 0.15);\n",
              "      fill: #174EA6;\n",
              "    }\n",
              "\n",
              "    .colab-df-buttons div {\n",
              "      margin-bottom: 4px;\n",
              "    }\n",
              "\n",
              "    [theme=dark] .colab-df-convert {\n",
              "      background-color: #3B4455;\n",
              "      fill: #D2E3FC;\n",
              "    }\n",
              "\n",
              "    [theme=dark] .colab-df-convert:hover {\n",
              "      background-color: #434B5C;\n",
              "      box-shadow: 0px 1px 3px 1px rgba(0, 0, 0, 0.15);\n",
              "      filter: drop-shadow(0px 1px 2px rgba(0, 0, 0, 0.3));\n",
              "      fill: #FFFFFF;\n",
              "    }\n",
              "  </style>\n",
              "\n",
              "    <script>\n",
              "      const buttonEl =\n",
              "        document.querySelector('#df-4cd54fb8-d85e-4965-94f6-15d78429281f button.colab-df-convert');\n",
              "      buttonEl.style.display =\n",
              "        google.colab.kernel.accessAllowed ? 'block' : 'none';\n",
              "\n",
              "      async function convertToInteractive(key) {\n",
              "        const element = document.querySelector('#df-4cd54fb8-d85e-4965-94f6-15d78429281f');\n",
              "        const dataTable =\n",
              "          await google.colab.kernel.invokeFunction('convertToInteractive',\n",
              "                                                    [key], {});\n",
              "        if (!dataTable) return;\n",
              "\n",
              "        const docLinkHtml = 'Like what you see? Visit the ' +\n",
              "          '<a target=\"_blank\" href=https://colab.research.google.com/notebooks/data_table.ipynb>data table notebook</a>'\n",
              "          + ' to learn more about interactive tables.';\n",
              "        element.innerHTML = '';\n",
              "        dataTable['output_type'] = 'display_data';\n",
              "        await google.colab.output.renderOutput(dataTable, element);\n",
              "        const docLink = document.createElement('div');\n",
              "        docLink.innerHTML = docLinkHtml;\n",
              "        element.appendChild(docLink);\n",
              "      }\n",
              "    </script>\n",
              "  </div>\n",
              "\n",
              "\n",
              "<div id=\"df-8dc7cefe-8b0a-4498-8ee0-a439427bce55\">\n",
              "  <button class=\"colab-df-quickchart\" onclick=\"quickchart('df-8dc7cefe-8b0a-4498-8ee0-a439427bce55')\"\n",
              "            title=\"Suggest charts\"\n",
              "            style=\"display:none;\">\n",
              "\n",
              "<svg xmlns=\"http://www.w3.org/2000/svg\" height=\"24px\"viewBox=\"0 0 24 24\"\n",
              "     width=\"24px\">\n",
              "    <g>\n",
              "        <path d=\"M19 3H5c-1.1 0-2 .9-2 2v14c0 1.1.9 2 2 2h14c1.1 0 2-.9 2-2V5c0-1.1-.9-2-2-2zM9 17H7v-7h2v7zm4 0h-2V7h2v10zm4 0h-2v-4h2v4z\"/>\n",
              "    </g>\n",
              "</svg>\n",
              "  </button>\n",
              "\n",
              "<style>\n",
              "  .colab-df-quickchart {\n",
              "      --bg-color: #E8F0FE;\n",
              "      --fill-color: #1967D2;\n",
              "      --hover-bg-color: #E2EBFA;\n",
              "      --hover-fill-color: #174EA6;\n",
              "      --disabled-fill-color: #AAA;\n",
              "      --disabled-bg-color: #DDD;\n",
              "  }\n",
              "\n",
              "  [theme=dark] .colab-df-quickchart {\n",
              "      --bg-color: #3B4455;\n",
              "      --fill-color: #D2E3FC;\n",
              "      --hover-bg-color: #434B5C;\n",
              "      --hover-fill-color: #FFFFFF;\n",
              "      --disabled-bg-color: #3B4455;\n",
              "      --disabled-fill-color: #666;\n",
              "  }\n",
              "\n",
              "  .colab-df-quickchart {\n",
              "    background-color: var(--bg-color);\n",
              "    border: none;\n",
              "    border-radius: 50%;\n",
              "    cursor: pointer;\n",
              "    display: none;\n",
              "    fill: var(--fill-color);\n",
              "    height: 32px;\n",
              "    padding: 0;\n",
              "    width: 32px;\n",
              "  }\n",
              "\n",
              "  .colab-df-quickchart:hover {\n",
              "    background-color: var(--hover-bg-color);\n",
              "    box-shadow: 0 1px 2px rgba(60, 64, 67, 0.3), 0 1px 3px 1px rgba(60, 64, 67, 0.15);\n",
              "    fill: var(--button-hover-fill-color);\n",
              "  }\n",
              "\n",
              "  .colab-df-quickchart-complete:disabled,\n",
              "  .colab-df-quickchart-complete:disabled:hover {\n",
              "    background-color: var(--disabled-bg-color);\n",
              "    fill: var(--disabled-fill-color);\n",
              "    box-shadow: none;\n",
              "  }\n",
              "\n",
              "  .colab-df-spinner {\n",
              "    border: 2px solid var(--fill-color);\n",
              "    border-color: transparent;\n",
              "    border-bottom-color: var(--fill-color);\n",
              "    animation:\n",
              "      spin 1s steps(1) infinite;\n",
              "  }\n",
              "\n",
              "  @keyframes spin {\n",
              "    0% {\n",
              "      border-color: transparent;\n",
              "      border-bottom-color: var(--fill-color);\n",
              "      border-left-color: var(--fill-color);\n",
              "    }\n",
              "    20% {\n",
              "      border-color: transparent;\n",
              "      border-left-color: var(--fill-color);\n",
              "      border-top-color: var(--fill-color);\n",
              "    }\n",
              "    30% {\n",
              "      border-color: transparent;\n",
              "      border-left-color: var(--fill-color);\n",
              "      border-top-color: var(--fill-color);\n",
              "      border-right-color: var(--fill-color);\n",
              "    }\n",
              "    40% {\n",
              "      border-color: transparent;\n",
              "      border-right-color: var(--fill-color);\n",
              "      border-top-color: var(--fill-color);\n",
              "    }\n",
              "    60% {\n",
              "      border-color: transparent;\n",
              "      border-right-color: var(--fill-color);\n",
              "    }\n",
              "    80% {\n",
              "      border-color: transparent;\n",
              "      border-right-color: var(--fill-color);\n",
              "      border-bottom-color: var(--fill-color);\n",
              "    }\n",
              "    90% {\n",
              "      border-color: transparent;\n",
              "      border-bottom-color: var(--fill-color);\n",
              "    }\n",
              "  }\n",
              "</style>\n",
              "\n",
              "  <script>\n",
              "    async function quickchart(key) {\n",
              "      const quickchartButtonEl =\n",
              "        document.querySelector('#' + key + ' button');\n",
              "      quickchartButtonEl.disabled = true;  // To prevent multiple clicks.\n",
              "      quickchartButtonEl.classList.add('colab-df-spinner');\n",
              "      try {\n",
              "        const charts = await google.colab.kernel.invokeFunction(\n",
              "            'suggestCharts', [key], {});\n",
              "      } catch (error) {\n",
              "        console.error('Error during call to suggestCharts:', error);\n",
              "      }\n",
              "      quickchartButtonEl.classList.remove('colab-df-spinner');\n",
              "      quickchartButtonEl.classList.add('colab-df-quickchart-complete');\n",
              "    }\n",
              "    (() => {\n",
              "      let quickchartButtonEl =\n",
              "        document.querySelector('#df-8dc7cefe-8b0a-4498-8ee0-a439427bce55 button');\n",
              "      quickchartButtonEl.style.display =\n",
              "        google.colab.kernel.accessAllowed ? 'block' : 'none';\n",
              "    })();\n",
              "  </script>\n",
              "</div>\n",
              "\n",
              "    </div>\n",
              "  </div>\n"
            ],
            "application/vnd.google.colaboratory.intrinsic+json": {
              "type": "dataframe",
              "variable_name": "osprey_df"
            }
          },
          "metadata": {},
          "execution_count": 5
        }
      ]
    },
    {
      "cell_type": "code",
      "source": [
        "#loading bald_eagle data\n",
        "eagle_path = '/content/drive/MyDrive/ml_climate_project_data/bald_eagle/'\n",
        "\n",
        "csv_files = [f for f in os.listdir(eagle_path) if f.endswith('.csv')]\n",
        "bald_eagle_df = pd.concat(\n",
        "    [pd.read_csv(os.path.join(eagle_path, file)) for file in sorted(csv_files)],\n",
        "    ignore_index = True\n",
        ")\n",
        "\n",
        "#getting rid of missing / non-numeric values\n",
        "bald_eagle_df['OBSERVATION COUNT'] = pd.to_numeric(bald_eagle_df['OBSERVATION COUNT'], errors = 'coerce')\n",
        "bald_eagle_df = bald_eagle_df.dropna(subset = ['OBSERVATION COUNT'])\n",
        "\n",
        "bald_eagle_df = bald_eagle_df[['OBSERVATION DATE', 'OBSERVATION COUNT', 'COUNTY']]\n",
        "\n",
        "#displaying 5 rows\n",
        "bald_eagle_df.head()"
      ],
      "metadata": {
        "colab": {
          "base_uri": "https://localhost:8080/",
          "height": 206
        },
        "id": "FLJ4YUzveOTp",
        "outputId": "d3ea57d2-eb11-45c3-8dff-edaec98418ce"
      },
      "execution_count": 6,
      "outputs": [
        {
          "output_type": "execute_result",
          "data": {
            "text/plain": [
              "  OBSERVATION DATE  OBSERVATION COUNT     COUNTY\n",
              "0       1994-01-09                1.0  Del Norte\n",
              "1       1994-01-04                1.0  Del Norte\n",
              "2       1994-01-16                1.0  Del Norte\n",
              "3       1994-01-09                1.0  Del Norte\n",
              "4       1994-01-20                2.0  Del Norte"
            ],
            "text/html": [
              "\n",
              "  <div id=\"df-4abd61fb-4dc0-4b68-bfa1-33c6070fbb84\" class=\"colab-df-container\">\n",
              "    <div>\n",
              "<style scoped>\n",
              "    .dataframe tbody tr th:only-of-type {\n",
              "        vertical-align: middle;\n",
              "    }\n",
              "\n",
              "    .dataframe tbody tr th {\n",
              "        vertical-align: top;\n",
              "    }\n",
              "\n",
              "    .dataframe thead th {\n",
              "        text-align: right;\n",
              "    }\n",
              "</style>\n",
              "<table border=\"1\" class=\"dataframe\">\n",
              "  <thead>\n",
              "    <tr style=\"text-align: right;\">\n",
              "      <th></th>\n",
              "      <th>OBSERVATION DATE</th>\n",
              "      <th>OBSERVATION COUNT</th>\n",
              "      <th>COUNTY</th>\n",
              "    </tr>\n",
              "  </thead>\n",
              "  <tbody>\n",
              "    <tr>\n",
              "      <th>0</th>\n",
              "      <td>1994-01-09</td>\n",
              "      <td>1.0</td>\n",
              "      <td>Del Norte</td>\n",
              "    </tr>\n",
              "    <tr>\n",
              "      <th>1</th>\n",
              "      <td>1994-01-04</td>\n",
              "      <td>1.0</td>\n",
              "      <td>Del Norte</td>\n",
              "    </tr>\n",
              "    <tr>\n",
              "      <th>2</th>\n",
              "      <td>1994-01-16</td>\n",
              "      <td>1.0</td>\n",
              "      <td>Del Norte</td>\n",
              "    </tr>\n",
              "    <tr>\n",
              "      <th>3</th>\n",
              "      <td>1994-01-09</td>\n",
              "      <td>1.0</td>\n",
              "      <td>Del Norte</td>\n",
              "    </tr>\n",
              "    <tr>\n",
              "      <th>4</th>\n",
              "      <td>1994-01-20</td>\n",
              "      <td>2.0</td>\n",
              "      <td>Del Norte</td>\n",
              "    </tr>\n",
              "  </tbody>\n",
              "</table>\n",
              "</div>\n",
              "    <div class=\"colab-df-buttons\">\n",
              "\n",
              "  <div class=\"colab-df-container\">\n",
              "    <button class=\"colab-df-convert\" onclick=\"convertToInteractive('df-4abd61fb-4dc0-4b68-bfa1-33c6070fbb84')\"\n",
              "            title=\"Convert this dataframe to an interactive table.\"\n",
              "            style=\"display:none;\">\n",
              "\n",
              "  <svg xmlns=\"http://www.w3.org/2000/svg\" height=\"24px\" viewBox=\"0 -960 960 960\">\n",
              "    <path d=\"M120-120v-720h720v720H120Zm60-500h600v-160H180v160Zm220 220h160v-160H400v160Zm0 220h160v-160H400v160ZM180-400h160v-160H180v160Zm440 0h160v-160H620v160ZM180-180h160v-160H180v160Zm440 0h160v-160H620v160Z\"/>\n",
              "  </svg>\n",
              "    </button>\n",
              "\n",
              "  <style>\n",
              "    .colab-df-container {\n",
              "      display:flex;\n",
              "      gap: 12px;\n",
              "    }\n",
              "\n",
              "    .colab-df-convert {\n",
              "      background-color: #E8F0FE;\n",
              "      border: none;\n",
              "      border-radius: 50%;\n",
              "      cursor: pointer;\n",
              "      display: none;\n",
              "      fill: #1967D2;\n",
              "      height: 32px;\n",
              "      padding: 0 0 0 0;\n",
              "      width: 32px;\n",
              "    }\n",
              "\n",
              "    .colab-df-convert:hover {\n",
              "      background-color: #E2EBFA;\n",
              "      box-shadow: 0px 1px 2px rgba(60, 64, 67, 0.3), 0px 1px 3px 1px rgba(60, 64, 67, 0.15);\n",
              "      fill: #174EA6;\n",
              "    }\n",
              "\n",
              "    .colab-df-buttons div {\n",
              "      margin-bottom: 4px;\n",
              "    }\n",
              "\n",
              "    [theme=dark] .colab-df-convert {\n",
              "      background-color: #3B4455;\n",
              "      fill: #D2E3FC;\n",
              "    }\n",
              "\n",
              "    [theme=dark] .colab-df-convert:hover {\n",
              "      background-color: #434B5C;\n",
              "      box-shadow: 0px 1px 3px 1px rgba(0, 0, 0, 0.15);\n",
              "      filter: drop-shadow(0px 1px 2px rgba(0, 0, 0, 0.3));\n",
              "      fill: #FFFFFF;\n",
              "    }\n",
              "  </style>\n",
              "\n",
              "    <script>\n",
              "      const buttonEl =\n",
              "        document.querySelector('#df-4abd61fb-4dc0-4b68-bfa1-33c6070fbb84 button.colab-df-convert');\n",
              "      buttonEl.style.display =\n",
              "        google.colab.kernel.accessAllowed ? 'block' : 'none';\n",
              "\n",
              "      async function convertToInteractive(key) {\n",
              "        const element = document.querySelector('#df-4abd61fb-4dc0-4b68-bfa1-33c6070fbb84');\n",
              "        const dataTable =\n",
              "          await google.colab.kernel.invokeFunction('convertToInteractive',\n",
              "                                                    [key], {});\n",
              "        if (!dataTable) return;\n",
              "\n",
              "        const docLinkHtml = 'Like what you see? Visit the ' +\n",
              "          '<a target=\"_blank\" href=https://colab.research.google.com/notebooks/data_table.ipynb>data table notebook</a>'\n",
              "          + ' to learn more about interactive tables.';\n",
              "        element.innerHTML = '';\n",
              "        dataTable['output_type'] = 'display_data';\n",
              "        await google.colab.output.renderOutput(dataTable, element);\n",
              "        const docLink = document.createElement('div');\n",
              "        docLink.innerHTML = docLinkHtml;\n",
              "        element.appendChild(docLink);\n",
              "      }\n",
              "    </script>\n",
              "  </div>\n",
              "\n",
              "\n",
              "<div id=\"df-979c1ea6-0b48-473a-935b-b3d90057f4a6\">\n",
              "  <button class=\"colab-df-quickchart\" onclick=\"quickchart('df-979c1ea6-0b48-473a-935b-b3d90057f4a6')\"\n",
              "            title=\"Suggest charts\"\n",
              "            style=\"display:none;\">\n",
              "\n",
              "<svg xmlns=\"http://www.w3.org/2000/svg\" height=\"24px\"viewBox=\"0 0 24 24\"\n",
              "     width=\"24px\">\n",
              "    <g>\n",
              "        <path d=\"M19 3H5c-1.1 0-2 .9-2 2v14c0 1.1.9 2 2 2h14c1.1 0 2-.9 2-2V5c0-1.1-.9-2-2-2zM9 17H7v-7h2v7zm4 0h-2V7h2v10zm4 0h-2v-4h2v4z\"/>\n",
              "    </g>\n",
              "</svg>\n",
              "  </button>\n",
              "\n",
              "<style>\n",
              "  .colab-df-quickchart {\n",
              "      --bg-color: #E8F0FE;\n",
              "      --fill-color: #1967D2;\n",
              "      --hover-bg-color: #E2EBFA;\n",
              "      --hover-fill-color: #174EA6;\n",
              "      --disabled-fill-color: #AAA;\n",
              "      --disabled-bg-color: #DDD;\n",
              "  }\n",
              "\n",
              "  [theme=dark] .colab-df-quickchart {\n",
              "      --bg-color: #3B4455;\n",
              "      --fill-color: #D2E3FC;\n",
              "      --hover-bg-color: #434B5C;\n",
              "      --hover-fill-color: #FFFFFF;\n",
              "      --disabled-bg-color: #3B4455;\n",
              "      --disabled-fill-color: #666;\n",
              "  }\n",
              "\n",
              "  .colab-df-quickchart {\n",
              "    background-color: var(--bg-color);\n",
              "    border: none;\n",
              "    border-radius: 50%;\n",
              "    cursor: pointer;\n",
              "    display: none;\n",
              "    fill: var(--fill-color);\n",
              "    height: 32px;\n",
              "    padding: 0;\n",
              "    width: 32px;\n",
              "  }\n",
              "\n",
              "  .colab-df-quickchart:hover {\n",
              "    background-color: var(--hover-bg-color);\n",
              "    box-shadow: 0 1px 2px rgba(60, 64, 67, 0.3), 0 1px 3px 1px rgba(60, 64, 67, 0.15);\n",
              "    fill: var(--button-hover-fill-color);\n",
              "  }\n",
              "\n",
              "  .colab-df-quickchart-complete:disabled,\n",
              "  .colab-df-quickchart-complete:disabled:hover {\n",
              "    background-color: var(--disabled-bg-color);\n",
              "    fill: var(--disabled-fill-color);\n",
              "    box-shadow: none;\n",
              "  }\n",
              "\n",
              "  .colab-df-spinner {\n",
              "    border: 2px solid var(--fill-color);\n",
              "    border-color: transparent;\n",
              "    border-bottom-color: var(--fill-color);\n",
              "    animation:\n",
              "      spin 1s steps(1) infinite;\n",
              "  }\n",
              "\n",
              "  @keyframes spin {\n",
              "    0% {\n",
              "      border-color: transparent;\n",
              "      border-bottom-color: var(--fill-color);\n",
              "      border-left-color: var(--fill-color);\n",
              "    }\n",
              "    20% {\n",
              "      border-color: transparent;\n",
              "      border-left-color: var(--fill-color);\n",
              "      border-top-color: var(--fill-color);\n",
              "    }\n",
              "    30% {\n",
              "      border-color: transparent;\n",
              "      border-left-color: var(--fill-color);\n",
              "      border-top-color: var(--fill-color);\n",
              "      border-right-color: var(--fill-color);\n",
              "    }\n",
              "    40% {\n",
              "      border-color: transparent;\n",
              "      border-right-color: var(--fill-color);\n",
              "      border-top-color: var(--fill-color);\n",
              "    }\n",
              "    60% {\n",
              "      border-color: transparent;\n",
              "      border-right-color: var(--fill-color);\n",
              "    }\n",
              "    80% {\n",
              "      border-color: transparent;\n",
              "      border-right-color: var(--fill-color);\n",
              "      border-bottom-color: var(--fill-color);\n",
              "    }\n",
              "    90% {\n",
              "      border-color: transparent;\n",
              "      border-bottom-color: var(--fill-color);\n",
              "    }\n",
              "  }\n",
              "</style>\n",
              "\n",
              "  <script>\n",
              "    async function quickchart(key) {\n",
              "      const quickchartButtonEl =\n",
              "        document.querySelector('#' + key + ' button');\n",
              "      quickchartButtonEl.disabled = true;  // To prevent multiple clicks.\n",
              "      quickchartButtonEl.classList.add('colab-df-spinner');\n",
              "      try {\n",
              "        const charts = await google.colab.kernel.invokeFunction(\n",
              "            'suggestCharts', [key], {});\n",
              "      } catch (error) {\n",
              "        console.error('Error during call to suggestCharts:', error);\n",
              "      }\n",
              "      quickchartButtonEl.classList.remove('colab-df-spinner');\n",
              "      quickchartButtonEl.classList.add('colab-df-quickchart-complete');\n",
              "    }\n",
              "    (() => {\n",
              "      let quickchartButtonEl =\n",
              "        document.querySelector('#df-979c1ea6-0b48-473a-935b-b3d90057f4a6 button');\n",
              "      quickchartButtonEl.style.display =\n",
              "        google.colab.kernel.accessAllowed ? 'block' : 'none';\n",
              "    })();\n",
              "  </script>\n",
              "</div>\n",
              "\n",
              "    </div>\n",
              "  </div>\n"
            ],
            "application/vnd.google.colaboratory.intrinsic+json": {
              "type": "dataframe",
              "variable_name": "bald_eagle_df"
            }
          },
          "metadata": {},
          "execution_count": 6
        }
      ]
    },
    {
      "cell_type": "code",
      "source": [
        "#fish data\n",
        "fish_df = pd.read_csv('/content/drive/MyDrive/ml_climate_project_data/fishdata.csv')\n",
        "\n",
        "#temperature data\n",
        "temp_df = pd.read_csv('/content/drive/MyDrive/ml_climate_project_data/tempdata.csv')\n",
        "\n",
        "temp_df = temp_df[temp_df['Anomaly'] != -999]\n",
        "\n",
        "temp_df['year'] = temp_df['Date'].astype(str).str[:4].astype(int)\n",
        "temp_df['month'] = temp_df['Date'].astype(str).str[4:].astype(int)"
      ],
      "metadata": {
        "id": "ok9j7b81eRf5"
      },
      "execution_count": 7,
      "outputs": []
    },
    {
      "cell_type": "code",
      "source": [
        "#combine and join data\n",
        "osprey_df[\"bird_type\"] = \"Osprey\"\n",
        "bald_eagle_df[\"bird_type\"] = \"Bald Eagle\"\n",
        "bird_df = pd.concat([osprey_df, bald_eagle_df], ignore_index = True)\n",
        "\n",
        "bird_df['OBSERVATION DATE'] = pd.to_datetime(bird_df['OBSERVATION DATE'])\n",
        "bird_df['year'] = bird_df['OBSERVATION DATE'].dt.year\n",
        "bird_df['month'] = bird_df['OBSERVATION DATE'].dt.month\n",
        "\n",
        "#combine with temperature data\n",
        "bird_temp_df = bird_df.merge(temp_df[['year', 'month', 'Anomaly']], on=['year', 'month'], how='left')\n",
        "\n",
        "#combine with fish data\n",
        "combined_df = bird_temp_df.merge(fish_df, on='year', how='left')\n",
        "final_df = combined_df.dropna()\n",
        "final_df = final_df.rename(columns={\n",
        "    \"Anomaly\": \"temperature\",\n",
        "    \"OBSERVATION COUNT\": \"bird_count\",\n",
        "    \"Fish_Population\": \"fish_population\",\n",
        "})\n",
        "print(final_df.head(10))"
      ],
      "metadata": {
        "colab": {
          "base_uri": "https://localhost:8080/"
        },
        "id": "SvuB9dmqeTUP",
        "outputId": "c7ed4070-7ed3-41e7-e880-7f248b5ad2d8"
      },
      "execution_count": 8,
      "outputs": [
        {
          "output_type": "stream",
          "name": "stdout",
          "text": [
            "   OBSERVATION DATE  bird_count       COUNTY bird_type  year  month  \\\n",
            "0        1994-01-09         1.0  Los Angeles    Osprey  1994      1   \n",
            "2        1994-01-09         1.0  Los Angeles    Osprey  1994      1   \n",
            "3        1994-01-09         1.0  Los Angeles    Osprey  1994      1   \n",
            "4        1994-01-09         1.0  Los Angeles    Osprey  1994      1   \n",
            "12       1994-01-09         1.0  Los Angeles    Osprey  1994      1   \n",
            "13       1994-01-09         1.0  Los Angeles    Osprey  1994      1   \n",
            "14       1994-01-09         1.0  Los Angeles    Osprey  1994      1   \n",
            "15       1994-01-09         1.0  Los Angeles    Osprey  1994      1   \n",
            "19       1994-01-09         1.0  Los Angeles    Osprey  1994      1   \n",
            "36       1994-01-09         1.0  Los Angeles    Osprey  1994      1   \n",
            "\n",
            "    temperature  Unnamed: 0    species      spawners       runsize  \n",
            "0          0.89        12.0    Chinook  6.491291e+04  1.939712e+05  \n",
            "2          0.89       104.0    Chinook  9.743200e+04  1.125201e+05  \n",
            "3          0.89       144.0    Sockeye  1.345268e+05  3.962264e+05  \n",
            "4          0.89       176.0       Coho  9.634300e+04  2.123280e+05  \n",
            "12         0.89       669.0    Chinook  2.487200e+04  3.286400e+04  \n",
            "13         0.89       711.0    Sockeye  3.100440e+05  8.371380e+05  \n",
            "14         0.89       740.0  Steelhead  6.794000e+03  1.288700e+04  \n",
            "15         0.89       771.0       Coho  2.068443e+05  7.566762e+05  \n",
            "19         0.89      1029.0    Sockeye  1.094193e+06  2.719942e+06  \n",
            "36         0.89      2185.0       Coho  3.754300e+04  6.625200e+04  \n"
          ]
        }
      ]
    },
    {
      "cell_type": "code",
      "source": [
        "#data setup\n",
        "\n",
        "final_df['interaction_temp_osprey'] = final_df['temperature'] * (final_df['bird_type'] == 'Osprey').astype(int)\n",
        "final_df['interaction_temp_bald_eagle'] = final_df['temperature'] * (final_df['bird_type'] == 'Bald Eagle').astype(int)\n",
        "final_df['interaction_fish_osprey'] = final_df['runsize'] * (final_df['bird_type'] == 'Osprey').astype(int)\n",
        "final_df['interaction_fish_bald_eagle'] = final_df['runsize'] * (final_df['bird_type'] == 'Bald Eagle').astype(int)\n",
        "\n",
        "features = ['temperature', 'runsize', 'interaction_temp_osprey', 'interaction_temp_bald_eagle',\n",
        "            'interaction_fish_osprey', 'interaction_fish_bald_eagle']\n",
        "target = 'bird_count'\n",
        "X = final_df[features].values\n",
        "y = final_df[target].values\n",
        "X_tensor = torch.tensor(X, dtype=torch.float32)\n",
        "y_tensor = torch.tensor(y, dtype=torch.float32).view(-1, 1)\n",
        "\n",
        "print(X_tensor.shape)\n",
        "print(y_tensor.shape)\n",
        "\n",
        "print(final_df.head(10))"
      ],
      "metadata": {
        "colab": {
          "base_uri": "https://localhost:8080/"
        },
        "id": "VKozf91VeXWx",
        "outputId": "ac63bdce-1e9b-44a5-9d3a-27cb4545d8bd"
      },
      "execution_count": 9,
      "outputs": [
        {
          "output_type": "stream",
          "name": "stdout",
          "text": [
            "torch.Size([5662717, 6])\n",
            "torch.Size([5662717, 1])\n",
            "   OBSERVATION DATE  bird_count       COUNTY bird_type  year  month  \\\n",
            "0        1994-01-09         1.0  Los Angeles    Osprey  1994      1   \n",
            "2        1994-01-09         1.0  Los Angeles    Osprey  1994      1   \n",
            "3        1994-01-09         1.0  Los Angeles    Osprey  1994      1   \n",
            "4        1994-01-09         1.0  Los Angeles    Osprey  1994      1   \n",
            "12       1994-01-09         1.0  Los Angeles    Osprey  1994      1   \n",
            "13       1994-01-09         1.0  Los Angeles    Osprey  1994      1   \n",
            "14       1994-01-09         1.0  Los Angeles    Osprey  1994      1   \n",
            "15       1994-01-09         1.0  Los Angeles    Osprey  1994      1   \n",
            "19       1994-01-09         1.0  Los Angeles    Osprey  1994      1   \n",
            "36       1994-01-09         1.0  Los Angeles    Osprey  1994      1   \n",
            "\n",
            "    temperature  Unnamed: 0    species      spawners       runsize  \\\n",
            "0          0.89        12.0    Chinook  6.491291e+04  1.939712e+05   \n",
            "2          0.89       104.0    Chinook  9.743200e+04  1.125201e+05   \n",
            "3          0.89       144.0    Sockeye  1.345268e+05  3.962264e+05   \n",
            "4          0.89       176.0       Coho  9.634300e+04  2.123280e+05   \n",
            "12         0.89       669.0    Chinook  2.487200e+04  3.286400e+04   \n",
            "13         0.89       711.0    Sockeye  3.100440e+05  8.371380e+05   \n",
            "14         0.89       740.0  Steelhead  6.794000e+03  1.288700e+04   \n",
            "15         0.89       771.0       Coho  2.068443e+05  7.566762e+05   \n",
            "19         0.89      1029.0    Sockeye  1.094193e+06  2.719942e+06   \n",
            "36         0.89      2185.0       Coho  3.754300e+04  6.625200e+04   \n",
            "\n",
            "    interaction_temp_osprey  interaction_temp_bald_eagle  \\\n",
            "0                      0.89                          0.0   \n",
            "2                      0.89                          0.0   \n",
            "3                      0.89                          0.0   \n",
            "4                      0.89                          0.0   \n",
            "12                     0.89                          0.0   \n",
            "13                     0.89                          0.0   \n",
            "14                     0.89                          0.0   \n",
            "15                     0.89                          0.0   \n",
            "19                     0.89                          0.0   \n",
            "36                     0.89                          0.0   \n",
            "\n",
            "    interaction_fish_osprey  interaction_fish_bald_eagle  \n",
            "0              1.939712e+05                          0.0  \n",
            "2              1.125201e+05                          0.0  \n",
            "3              3.962264e+05                          0.0  \n",
            "4              2.123280e+05                          0.0  \n",
            "12             3.286400e+04                          0.0  \n",
            "13             8.371380e+05                          0.0  \n",
            "14             1.288700e+04                          0.0  \n",
            "15             7.566762e+05                          0.0  \n",
            "19             2.719942e+06                          0.0  \n",
            "36             6.625200e+04                          0.0  \n"
          ]
        }
      ]
    },
    {
      "cell_type": "code",
      "source": [
        "#merge data\n",
        "final_df['OBSERVATION DATE'] = pd.to_datetime(final_df['OBSERVATION DATE'])\n",
        "\n",
        "monthly_summary = final_df.groupby(['year', 'month', 'bird_type']).agg({\n",
        "    'bird_count': 'sum',\n",
        "    'temperature': 'mean',\n",
        "    'runsize': 'mean',\n",
        "    'spawners': 'mean'\n",
        "}).reset_index()\n",
        "\n",
        "bird_pivot = monthly_summary.pivot_table(index = ['year', 'month'],\n",
        "                                         columns = 'bird_type',\n",
        "                                         values = 'bird_count',\n",
        "                                         fill_value = 0).reset_index()\n",
        "\n",
        "bird_pivot.columns.name = None\n",
        "bird_pivot = bird_pivot.rename(columns = {\n",
        "    'Osprey': 'osprey_count',\n",
        "    'Bald Eagle': 'bald_eagle_count'\n",
        "})\n",
        "\n",
        "temp_fish = monthly_summary.groupby(['year', 'month']).agg({\n",
        "    'temperature': 'mean',\n",
        "    'runsize': 'mean',\n",
        "    'spawners': 'mean'\n",
        "}).reset_index()\n",
        "\n",
        "merged_df = pd.merge(bird_pivot, temp_fish, on = ['year', 'month'], how = 'left')\n",
        "merged_df['interaction'] = merged_df['temperature'] * merged_df['bald_eagle_count']\n",
        "\n",
        "print(merged_df.head(10))"
      ],
      "metadata": {
        "colab": {
          "base_uri": "https://localhost:8080/"
        },
        "id": "HXmMIVbdeY64",
        "outputId": "d08adac6-077b-4512-8642-1606e553b694"
      },
      "execution_count": 11,
      "outputs": [
        {
          "output_type": "stream",
          "name": "stdout",
          "text": [
            "   year  month  bald_eagle_count  osprey_count  temperature       runsize  \\\n",
            "0  1994      1             165.0         143.0         0.89  2.058768e+06   \n",
            "1  1994      2             242.0          99.0         0.67  2.058768e+06   \n",
            "2  1994      3             209.0         286.0         0.75  2.058768e+06   \n",
            "3  1994      4              44.0         209.0         0.63  2.058768e+06   \n",
            "4  1994      5              66.0         154.0         0.52  2.058768e+06   \n",
            "5  1994      6              11.0         132.0         0.50  2.058768e+06   \n",
            "6  1994      7              11.0         132.0         0.51  2.058768e+06   \n",
            "7  1994      8              22.0         220.0         0.26  2.058768e+06   \n",
            "8  1994      9              33.0         396.0         0.46  2.058768e+06   \n",
            "9  1994     10              33.0         286.0         0.51  2.058768e+06   \n",
            "\n",
            "        spawners  interaction  \n",
            "0  470649.146682       146.85  \n",
            "1  470649.146682       162.14  \n",
            "2  470649.146682       156.75  \n",
            "3  470649.146682        27.72  \n",
            "4  470649.146682        34.32  \n",
            "5  470649.146682         5.50  \n",
            "6  470649.146682         5.61  \n",
            "7  470649.146682         5.72  \n",
            "8  470649.146682        15.18  \n",
            "9  470649.146682        16.83  \n"
          ]
        }
      ]
    },
    {
      "cell_type": "code",
      "source": [
        "#plotting bald eagle and osprey counts over time (year and month)\n",
        "\n",
        "plt.figure(figsize = (12, 6))\n",
        "plt.plot(merged_df['year'] + merged_df['month'] / 12, merged_df['bald_eagle_count'], label = \"Bald Eagle Count\")\n",
        "plt.plot(merged_df['year'] + merged_df['month'] / 12, merged_df['osprey_count'], label = \"Osprey Count\")\n",
        "plt.xlabel(\"Time (Year-Month)\")\n",
        "plt.ylabel(\"Count\")\n",
        "plt.title(\"Bald Eagle and Osprey Counts Over Time\")\n",
        "plt.legend()\n",
        "plt.show()"
      ],
      "metadata": {
        "colab": {
          "base_uri": "https://localhost:8080/",
          "height": 564
        },
        "id": "O91imVj2gfpy",
        "outputId": "32bbd4c7-3403-425c-9ebc-c0c80dc69924"
      },
      "execution_count": 12,
      "outputs": [
        {
          "output_type": "display_data",
          "data": {
            "text/plain": [
              "<Figure size 1200x600 with 1 Axes>"
            ],
            "image/png": "[encoded data removed]"
          },
          "metadata": {}
        }
      ]
    },
    {
      "cell_type": "code",
      "source": [
        "#dag\n",
        "causal_data = merged_df.drop(columns = ['year', 'month'])\n",
        "X = causal_data.values\n",
        "Record = ges(X)\n",
        "\n",
        "pyd = GraphUtils.to_pydot(Record['G'])\n",
        "tmp_png = pyd.create_png(f = \"png\")\n",
        "fp = io.BytesIO(tmp_png)\n",
        "img = mpimg.imread(fp, format = 'png')\n",
        "\n",
        "#plt.axis('off')\n",
        "#plt.imshow(img)\n",
        "#plt.show()\n",
        "#pyd.write_png('causal_graph.png')\n",
        "\n",
        "node_labels = [node.get_name() for node in Record['G'].nodes]\n",
        "print(\"Node labels:\", node_labels)\n",
        "\n",
        "column_names = causal_data.columns.tolist()\n",
        "node_to_column_map = dict(zip([f'X{i+1}' for i in range(len(column_names))], column_names))\n",
        "print(\"Node to Column Mapping:\", node_to_column_map)\n",
        "\n",
        "target_column = 'bald_eagle_count'\n",
        "\n",
        "target_node_label = next(label for label, col in node_to_column_map.items() if col == target_column)\n",
        "node_labels = [node.get_name() for node in Record['G'].nodes]\n",
        "print(\"Node labels in the causal graph:\", node_labels)\n",
        "\n",
        "target_column = 'bald_eagle_count'\n",
        "target_node = None\n",
        "for node in Record['G'].nodes:\n",
        "    if node.get_name() == target_node_label:\n",
        "        target_node = node\n",
        "        break\n",
        "\n",
        "if target_node is None:\n",
        "    print(f\"Error: Node '{target_node_label}' not found in the graph.\")\n",
        "else:\n",
        "    parents_of_target = Record['G'].get_parents(target_node)\n",
        "    parent_columns = [node_to_column_map[parent.get_name()] for parent in parents_of_target]\n",
        "\n",
        "nodes = Record['G'].get_nodes()\n",
        "name_to_node = {node.get_name(): node for node in nodes}\n",
        "\n",
        "target_node_label = 'X2'\n",
        "target_node = name_to_node[target_node_label]\n",
        "\n",
        "parents_of_X2 = Record['G'].get_parents(target_node)\n",
        "\n",
        "print(\"Causal edges:\")\n",
        "for edge in Record['G'].get_graph_edges():\n",
        "    print(f\"{edge.get_node1().get_name()} -> {edge.get_node2().get_name()}\")\n"
      ],
      "metadata": {
        "colab": {
          "base_uri": "https://localhost:8080/"
        },
        "id": "6HqIzQKsrp87",
        "outputId": "837b014f-2e8c-4e8c-ade4-9c78bf8d5594"
      },
      "execution_count": 13,
      "outputs": [
        {
          "output_type": "stream",
          "name": "stdout",
          "text": [
            "Node labels: ['X1', 'X2', 'X3', 'X4', 'X5', 'X6']\n",
            "Node to Column Mapping: {'X1': 'bald_eagle_count', 'X2': 'osprey_count', 'X3': 'temperature', 'X4': 'runsize', 'X5': 'spawners', 'X6': 'interaction'}\n",
            "Node labels in the causal graph: ['X1', 'X2', 'X3', 'X4', 'X5', 'X6']\n",
            "Causal edges:\n",
            "X1 -> X2\n",
            "X1 -> X6\n",
            "X2 -> X3\n",
            "X2 -> X4\n",
            "X3 -> X6\n",
            "X5 -> X4\n",
            "X6 -> X5\n"
          ]
        }
      ]
    },
    {
      "cell_type": "code",
      "source": [
        "#linear regression\n",
        "\n",
        "X = merged_df['bald_eagle_count']\n",
        "Y = merged_df['osprey_count']\n",
        "\n",
        "model = LinearRegression()\n",
        "model.fit(X.values.reshape(-1, 1), Y)\n",
        "\n",
        "Y_pred = model.predict(X.values.reshape(-1, 1))\n",
        "\n",
        "print(\"R^2:\", r2_score(Y, Y_pred))"
      ],
      "metadata": {
        "colab": {
          "base_uri": "https://localhost:8080/"
        },
        "id": "2pMtmQ1BvPzl",
        "outputId": "e401d965-e455-4ea8-a830-0e274c93b6a2"
      },
      "execution_count": 14,
      "outputs": [
        {
          "output_type": "stream",
          "name": "stdout",
          "text": [
            "R^2: 0.45519774055086193\n"
          ]
        }
      ]
    },
    {
      "cell_type": "code",
      "source": [
        "#random forest\n",
        "\n",
        "model = RandomForestRegressor()\n",
        "model.fit(X.values.reshape(-1, 1), Y)\n",
        "\n",
        "Y_pred = model.predict(X.values.reshape(-1, 1))\n",
        "\n",
        "print(\"R^2:\", r2_score(Y, Y_pred))"
      ],
      "metadata": {
        "colab": {
          "base_uri": "https://localhost:8080/"
        },
        "id": "qdpeIphevsNS",
        "outputId": "757dc9b9-df3f-457f-82a7-ece67bee66f9"
      },
      "execution_count": 15,
      "outputs": [
        {
          "output_type": "stream",
          "name": "stdout",
          "text": [
            "R^2: 0.937125042505447\n"
          ]
        }
      ]
    },
    {
      "cell_type": "code",
      "source": [
        "#mlp regressor\n",
        "\n",
        "model = MLPRegressor(hidden_layer_sizes=(10,), max_iter=1000)\n",
        "model.fit(X.values.reshape(-1, 1), Y)\n",
        "\n",
        "Y_pred = model.predict(X.values.reshape(-1, 1))\n",
        "\n",
        "print(\"R^2:\", r2_score(Y, Y_pred))"
      ],
      "metadata": {
        "colab": {
          "base_uri": "https://localhost:8080/"
        },
        "id": "HPPrzWi0vxu7",
        "outputId": "ba727e88-090e-4480-b1c1-aa6c51086ebd"
      },
      "execution_count": 16,
      "outputs": [
        {
          "output_type": "stream",
          "name": "stdout",
          "text": [
            "R^2: 0.3385215800541982\n"
          ]
        }
      ]
    },
    {
      "cell_type": "code",
      "source": [
        "#temperature and bald eagle interaction\n",
        "\n",
        "X_temp_be = merged_df[['temperature', 'bald_eagle_count']]\n",
        "y_interaction = merged_df['interaction']\n",
        "\n",
        "model_interaction = RandomForestRegressor()\n",
        "model_interaction.fit(X_temp_be, y_interaction)\n",
        "\n",
        "merged_df['predicted_interaction'] = model_interaction.predict(X_temp_be)\n",
        "\n",
        "print(\"R^2 for interaction:\", r2_score(merged_df['interaction'], merged_df['predicted_interaction']))"
      ],
      "metadata": {
        "colab": {
          "base_uri": "https://localhost:8080/"
        },
        "id": "OYWoyq2UW0ku",
        "outputId": "5f496e06-4c54-49ff-ccaa-0cca2d888321"
      },
      "execution_count": 17,
      "outputs": [
        {
          "output_type": "stream",
          "name": "stdout",
          "text": [
            "R^2 for interaction: 0.9925986695858218\n"
          ]
        }
      ]
    },
    {
      "cell_type": "code",
      "source": [
        "#\n",
        "\n",
        "y_osprey = merged_df['osprey_count']\n",
        "X_interaction = merged_df[['predicted_interaction']]\n",
        "\n",
        "model_osprey = RandomForestRegressor()\n",
        "model_osprey.fit(X_interaction, y_osprey)\n",
        "\n",
        "merged_df['predicted_osprey'] = model_osprey.predict(X_interaction)\n",
        "\n",
        "print(\"R^2 for osprey:\", r2_score(merged_df['osprey_count'], merged_df['predicted_osprey']))"
      ],
      "metadata": {
        "colab": {
          "base_uri": "https://localhost:8080/"
        },
        "id": "9vffRNtWW8FP",
        "outputId": "7a020aea-abd0-4374-b152-c77854ab16eb"
      },
      "execution_count": 18,
      "outputs": [
        {
          "output_type": "stream",
          "name": "stdout",
          "text": [
            "R^2 for osprey: 0.960138775457564\n"
          ]
        }
      ]
    },
    {
      "cell_type": "code",
      "source": [
        "#interaction\n",
        "merged_df[\"interaction\"] = merged_df[\"bald_eagle_count\"] * merged_df[\"osprey_count\"]"
      ],
      "metadata": {
        "id": "DPimMhCwbiDS"
      },
      "execution_count": 21,
      "outputs": []
    },
    {
      "cell_type": "code",
      "source": [
        "#R* rule\n",
        "merged_df[\"competition\"] = merged_df[\"bald_eagle_count\"] / (merged_df[\"osprey_count\"] + 1)"
      ],
      "metadata": {
        "id": "J0aHCRG1bnpC"
      },
      "execution_count": 22,
      "outputs": []
    },
    {
      "cell_type": "code",
      "source": [
        "#testing hypothesis\n",
        "\n",
        "features = [\"runsize\", \"spawners\", \"bald_eagle_count\", \"competition\", \"temperature\"]\n",
        "X = merged_df[features]\n",
        "y = merged_df[\"osprey_count\"]\n",
        "\n",
        "X_train, X_test, y_train, y_test = train_test_split(X, y, test_size=0.2, random_state=42)\n",
        "\n",
        "model = RandomForestRegressor(n_estimators=100, random_state=42)\n",
        "model.fit(X_train, y_train)\n",
        "\n",
        "y_pred = model.predict(X_test)\n",
        "print(\"R² Score:\", r2_score(y_test, y_pred))"
      ],
      "metadata": {
        "colab": {
          "base_uri": "https://localhost:8080/"
        },
        "id": "KGifnbmqvbl8",
        "outputId": "02d6de2a-3c3e-4314-9333-6f15395b7bcf"
      },
      "execution_count": 24,
      "outputs": [
        {
          "output_type": "stream",
          "name": "stdout",
          "text": [
            "R² Score: 0.8422487867542645\n"
          ]
        }
      ]
    },
    {
      "cell_type": "code",
      "source": [
        "#feature importance\n",
        "\n",
        "importances = model.feature_importances_\n",
        "indices = np.argsort(importances)[::-1]\n",
        "\n",
        "plt.figure(figsize = (8, 5))\n",
        "plt.title(\"Feature Importances for Osprey Count\")\n",
        "plt.bar(range(len(features)), importances[indices], align = 'center')\n",
        "plt.xticks(range(len(features)), [features[i] for i in indices], rotation = 45)\n",
        "plt.tight_layout()\n",
        "plt.show()"
      ],
      "metadata": {
        "colab": {
          "base_uri": "https://localhost:8080/",
          "height": 506
        },
        "id": "L8_DeI4Sb_3K",
        "outputId": "0aa0b397-88b5-44dc-eb6d-c53dbb7216f6"
      },
      "execution_count": 27,
      "outputs": [
        {
          "output_type": "display_data",
          "data": {
            "text/plain": [
              "<Figure size 800x500 with 1 Axes>"
            ],
            "image/png": "[encoded data removed]"
          },
          "metadata": {}
        }
      ]
    },
    {
      "cell_type": "code",
      "source": [
        "#counterfactuals\n",
        "avg_runsize = merged_df[\"runsize\"].mean()\n",
        "avg_spawners = merged_df[\"spawners\"].mean()\n",
        "avg_temperature = merged_df[\"temperature\"].mean()\n",
        "avg_bald_eagle_count = merged_df[\"bald_eagle_count\"].mean()\n",
        "\n",
        "#simulate 2030 conditions (50% fish levels)\n",
        "scenario_2030 = pd.DataFrame([{\n",
        "    \"runsize\": 0.5 * avg_runsize,\n",
        "    \"spawners\": 0.5 * avg_spawners,\n",
        "    \"bald_eagle_count\": avg_bald_eagle_count,\n",
        "    \"competition\": 1,  # still exists\n",
        "    \"temperature\": avg_temperature + 1.5  # simulate warming\n",
        "}])\n",
        "\n",
        "#predict osprey count\n",
        "predicted_osprey_2030 = model.predict(scenario_2030)[0]\n",
        "print(f\"Predicted Osprey Count in 2030 under 50% fish: {predicted_osprey_2030:.2f}\")\n"
      ],
      "metadata": {
        "colab": {
          "base_uri": "https://localhost:8080/"
        },
        "id": "ftnJR880cZNp",
        "outputId": "fc2d474a-39f7-4f52-a728-ddfad8aaa6c4"
      },
      "execution_count": 31,
      "outputs": [
        {
          "output_type": "stream",
          "name": "stdout",
          "text": [
            "Predicted Osprey Count in 2030 under 50% fish: 24630.92\n"
          ]
        }
      ]
    }
  ]
}